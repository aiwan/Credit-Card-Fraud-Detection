{
 "cells": [
  {
   "cell_type": "markdown",
   "metadata": {
    "id": "V0W3vlijxKLd"
   },
   "source": [
    "# Anomaly Detection Exercise: Credit Card Fraud\n",
    "\n",
    "In this exercise, we will practice using the Local Outlier Factor and Isolation Forest methods to detect outliers in data sets. We will be looking at data from a selected subset of the data for the [\"Credit Card Fraud Detection\" Kaggle task](https://www.kaggle.com/mlg-ulb/creditcardfraud/data)."
   ]
  },
  {
   "cell_type": "markdown",
   "metadata": {
    "id": "p6nftO42eW_0"
   },
   "source": [
    "**Questions:**\n",
    "\n",
    "**Question 1**:\n",
    "\n",
    "  - Load the data in *creditcard_10k.csv.gz* into a Pandas dataframe *df* and examine the data with *df.describe()*. \n",
    "  - Explain the mean and std values for the different features based on the meaning of the features (hint: see the Kaggle task description)."
   ]
  },
  {
   "cell_type": "code",
   "execution_count": 1,
   "metadata": {
    "id": "wsCOluzjeW_0"
   },
   "outputs": [],
   "source": [
    "# your code here"
   ]
  },
  {
   "cell_type": "markdown",
   "metadata": {},
   "source": [
    "**Question 2**:\n",
    "\n",
    "Split the data into `X` and `y` (`Class` column of the `df`).  \n",
    "\n",
    "We will use **unsupervised** Anomaly Detection algorithms to find the outliers, and use the `Class` feature that tells whether the transaction is legitimate or fraudulent only as target labels for **metric** to check how well we were able to recognize the outliers."
   ]
  },
  {
   "cell_type": "code",
   "execution_count": 7,
   "metadata": {},
   "outputs": [],
   "source": [
    "# your code here"
   ]
  },
  {
   "cell_type": "markdown",
   "metadata": {},
   "source": [
    "**Question 3:**\n",
    "\n",
    "We will be using and comparing behavior of 2 Anomaly Detection algorithms: Local Outlier Factor and Isolation Forest.   \n",
    "   - Which one of them is based on distance?  \n",
    "   - What preprocessing is required for distance-based algorithms?\n",
    "   - Perform the preprocessing on all features"
   ]
  },
  {
   "cell_type": "code",
   "execution_count": 10,
   "metadata": {},
   "outputs": [],
   "source": [
    "# your code here"
   ]
  },
  {
   "cell_type": "markdown",
   "metadata": {
    "id": "K2MczkQ6eW_1"
   },
   "source": [
    "**Question 4:** What percentage of transactions in the dataset are fraudulent using the `Class` feature?"
   ]
  },
  {
   "cell_type": "code",
   "execution_count": 11,
   "metadata": {
    "id": "QBvXHelMeW_1"
   },
   "outputs": [],
   "source": [
    "# your code here"
   ]
  },
  {
   "cell_type": "markdown",
   "metadata": {
    "id": "HVllIQdKeW_2"
   },
   "source": [
    "**Question 5:**\n",
    "\n",
    "Use `sklearn.neighbors.LocalOutlierFactor` with default parameters to detect outliers in transaction details.  How many transactions and what percentage of transactions are called fraudulent (outliers) with default parameters of LocalOutlierFactor?"
   ]
  },
  {
   "cell_type": "code",
   "execution_count": 15,
   "metadata": {
    "id": "F9wYYWrbeW_2"
   },
   "outputs": [],
   "source": [
    "# your code here"
   ]
  },
  {
   "cell_type": "markdown",
   "metadata": {
    "id": "BAQ2-GE_eW_3"
   },
   "source": [
    "**Question 6:**\n",
    "\n",
    "- Use `sklearn.metrics.confusion_matrix` and `sklearn.metrics.classification_report` to compare the results from unsupervised anomaly detection with LOF of previous question with the target labels. \n",
    "- Is the output of LOF with default parameters better than randomly selecting same number of transactions as were chosen by LOF in previous question? Why or why not? (Hint: if we would randomly select X% of observations as outliers, what percentage of real outliers would be chosen?)"
   ]
  },
  {
   "cell_type": "code",
   "execution_count": 14,
   "metadata": {
    "id": "4IhtV0MQeW_3"
   },
   "outputs": [],
   "source": [
    "# your code here"
   ]
  },
  {
   "cell_type": "markdown",
   "metadata": {
    "id": "s4OFD3lWeW_4"
   },
   "source": [
    "**Question 7:**\n",
    "\n",
    "`contamination` parameter of `LocalOutlierFactor` allows us to set what percent of total observations we would like our LOF model to flag as an outlier.  Let's see how the `contamination` parameter effects the results of LOF:\n",
    "  - Try passing different valid values to the parameter `contamination` of LocalOutlierFactor on full valid range of `contamination` of (0.0, 0.5].\n",
    "  - Plot the `contamination` parameter on the X axis and both `precision` and `recall` on the Y axis of the same graph.\n",
    "  - How does the `contamination` parameter affect the precision and recall of LOF?"
   ]
  },
  {
   "cell_type": "code",
   "execution_count": 22,
   "metadata": {
    "id": "_QqXIpaJeW_4"
   },
   "outputs": [],
   "source": [
    "# your code here"
   ]
  },
  {
   "cell_type": "markdown",
   "metadata": {
    "id": "s4OFD3lWeW_4"
   },
   "source": [
    "**Question 8:**\n",
    "\n",
    "Although the valid range of `contamination` parameter is (0.0, 0.5] so we can flag up to half of observations as outliers, it usually doesn't make sense to flag half the observations as outliers, since outliers are very rare.  Based on your answer in question 4 that shows that in this case, the fraudulent transactions are indeed rare, let's check `contimation` only up to 0.1 (we will flag maximum 10% of transactions as fraudulent).\n",
    "  - Try passing different values to the parameter `contamination` of LocalOutlierFactor in range (0.0, 0.1].\n",
    "  - Plot the `contamination` parameter on the X axis and both `precision` and `recall` on the Y axis of the same graph.\n",
    "  - Plot on the same graph a vertical line for contamination (% of transactions flagged as fraudulent) that was found by LocalOutlierFactor with default parameters (question 5).\n",
    "  - Would you say that the `contamination` chosen by default is a good choice?\n",
    "  - If you would go with a higher `contamination` value, what value would you choose and why?\n",
    "  - If you would go with a lower `contamination` value, what value would you choose and why?"
   ]
  },
  {
   "cell_type": "code",
   "execution_count": 22,
   "metadata": {
    "id": "_QqXIpaJeW_4"
   },
   "outputs": [],
   "source": [
    "# your code here"
   ]
  },
  {
   "cell_type": "markdown",
   "metadata": {
    "id": "U1gxhlXOeW_5"
   },
   "source": [
    "**Question 9:** Repeat questions 5-8 using `sklearn.ensemble.IsolationForest`."
   ]
  },
  {
   "cell_type": "code",
   "execution_count": 29,
   "metadata": {
    "id": "0THSXCJ2eW_5"
   },
   "outputs": [],
   "source": [
    "# your code here"
   ]
  },
  {
   "cell_type": "markdown",
   "metadata": {},
   "source": [
    "**Question 10:** \n",
    "- Plot contamination, precision and recall both for LOF and IF on the same graph for contaminations in range (0, 0.1].  **Tip:** use different colors for precision and recall, and different line styles to differentiate between LOF and IF.\n",
    "- What algorithm gives us consistently better results?\n",
    "- What algorithm and what contamination value would you choose and why? If you are not sure, give a few options."
   ]
  },
  {
   "cell_type": "code",
   "execution_count": null,
   "metadata": {},
   "outputs": [],
   "source": [
    "# your code here"
   ]
  }
 ],
 "metadata": {
  "colab": {
   "collapsed_sections": [],
   "name": "Anomaly Detection exercise.ipynb",
   "provenance": [],
   "toc_visible": true
  },
  "kernelspec": {
   "display_name": "Python 3 (ipykernel)",
   "language": "python",
   "name": "python3"
  },
  "language_info": {
   "codemirror_mode": {
    "name": "ipython",
    "version": 3
   },
   "file_extension": ".py",
   "mimetype": "text/x-python",
   "name": "python",
   "nbconvert_exporter": "python",
   "pygments_lexer": "ipython3",
   "version": "3.9.12"
  },
  "toc": {
   "base_numbering": 1,
   "nav_menu": {},
   "number_sections": true,
   "sideBar": true,
   "skip_h1_title": false,
   "title_cell": "Table of Contents",
   "title_sidebar": "Contents",
   "toc_cell": false,
   "toc_position": {},
   "toc_section_display": true,
   "toc_window_display": false
  },
  "varInspector": {
   "cols": {
    "lenName": 16,
    "lenType": 16,
    "lenVar": 40
   },
   "kernels_config": {
    "python": {
     "delete_cmd_postfix": "",
     "delete_cmd_prefix": "del ",
     "library": "var_list.py",
     "varRefreshCmd": "print(var_dic_list())"
    },
    "r": {
     "delete_cmd_postfix": ") ",
     "delete_cmd_prefix": "rm(",
     "library": "var_list.r",
     "varRefreshCmd": "cat(var_dic_list()) "
    }
   },
   "types_to_exclude": [
    "module",
    "function",
    "builtin_function_or_method",
    "instance",
    "_Feature"
   ],
   "window_display": false
  }
 },
 "nbformat": 4,
 "nbformat_minor": 1
}
