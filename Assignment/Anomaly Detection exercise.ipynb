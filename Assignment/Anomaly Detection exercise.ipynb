{
 "cells": [
  {
   "cell_type": "markdown",
   "metadata": {
    "id": "V0W3vlijxKLd"
   },
   "source": [
    "# Anomaly Detection Exercise: Credit Card Fraud\n",
    "\n",
    "In this exercise, we will practice using the Local Outlier Factor and Isolation Forest methods to detect outliers in data sets. We will be looking at data from a selected subset of the data for the [\"Credit Card Fraud Detection\" Kaggle task](https://www.kaggle.com/mlg-ulb/creditcardfraud/data)."
   ]
  },
  {
   "cell_type": "markdown",
   "metadata": {
    "id": "p6nftO42eW_0"
   },
   "source": [
    "**Questions:**\n",
    "\n",
    "**Question 1**:\n",
    "\n",
    "  - Load the data in *creditcard_10k.csv.gz* into a Pandas dataframe *df* and examine the data with *df.describe()*. \n",
    "  - Explain the mean and std values for the different features based on the meaning of the features (hint: see the Kaggle task description)."
   ]
  },
  {
   "cell_type": "code",
   "execution_count": 1,
   "metadata": {
    "ExecuteTime": {
     "end_time": "2023-02-15T17:07:53.276792Z",
     "start_time": "2023-02-15T17:07:49.793238Z"
    },
    "id": "wsCOluzjeW_0"
   },
   "outputs": [],
   "source": [
    "# Basics\n",
    "import numpy as np\n",
    "import pandas as pd\n",
    "\n",
    "# Load\n",
    "\n",
    "# Split\n",
    "from sklearn.model_selection import train_test_split\n",
    "\n",
    "# Models\n",
    "from sklearn.neighbors import LocalOutlierFactor\n",
    "from sklearn.ensemble import IsolationForest\n",
    "\n",
    "# Pre-processing\n",
    "from sklearn.preprocessing import MinMaxScaler, StandardScaler\n",
    "from sklearn.preprocessing import FunctionTransformer\n",
    "\n",
    "# Metrics\n",
    "from sklearn.metrics import confusion_matrix\n",
    "from sklearn.metrics import classification_report\n",
    "from sklearn.metrics import precision_score, recall_score\n",
    "\n",
    "# Plots\n",
    "import matplotlib.pyplot as plt\n",
    "import seaborn as sns"
   ]
  },
  {
   "cell_type": "code",
   "execution_count": 2,
   "metadata": {
    "ExecuteTime": {
     "end_time": "2023-02-15T17:07:53.863756Z",
     "start_time": "2023-02-15T17:07:53.287239Z"
    }
   },
   "outputs": [
    {
     "data": {
      "text/html": [
       "<div>\n",
       "<style scoped>\n",
       "    .dataframe tbody tr th:only-of-type {\n",
       "        vertical-align: middle;\n",
       "    }\n",
       "\n",
       "    .dataframe tbody tr th {\n",
       "        vertical-align: top;\n",
       "    }\n",
       "\n",
       "    .dataframe thead th {\n",
       "        text-align: right;\n",
       "    }\n",
       "</style>\n",
       "<table border=\"1\" class=\"dataframe\">\n",
       "  <thead>\n",
       "    <tr style=\"text-align: right;\">\n",
       "      <th></th>\n",
       "      <th>Time</th>\n",
       "      <th>V1</th>\n",
       "      <th>V2</th>\n",
       "      <th>V3</th>\n",
       "      <th>V4</th>\n",
       "      <th>V5</th>\n",
       "      <th>V6</th>\n",
       "      <th>V7</th>\n",
       "      <th>V8</th>\n",
       "      <th>V9</th>\n",
       "      <th>...</th>\n",
       "      <th>V21</th>\n",
       "      <th>V22</th>\n",
       "      <th>V23</th>\n",
       "      <th>V24</th>\n",
       "      <th>V25</th>\n",
       "      <th>V26</th>\n",
       "      <th>V27</th>\n",
       "      <th>V28</th>\n",
       "      <th>Amount</th>\n",
       "      <th>Class</th>\n",
       "    </tr>\n",
       "  </thead>\n",
       "  <tbody>\n",
       "    <tr>\n",
       "      <th>count</th>\n",
       "      <td>10000.00</td>\n",
       "      <td>10000.00</td>\n",
       "      <td>10000.00</td>\n",
       "      <td>10000.00</td>\n",
       "      <td>10000.00</td>\n",
       "      <td>10000.00</td>\n",
       "      <td>10000.00</td>\n",
       "      <td>10000.00</td>\n",
       "      <td>10000.00</td>\n",
       "      <td>10000.00</td>\n",
       "      <td>...</td>\n",
       "      <td>10000.00</td>\n",
       "      <td>10000.00</td>\n",
       "      <td>10000.00</td>\n",
       "      <td>10000.00</td>\n",
       "      <td>10000.00</td>\n",
       "      <td>10000.00</td>\n",
       "      <td>10000.00</td>\n",
       "      <td>10000.00</td>\n",
       "      <td>10000.00</td>\n",
       "      <td>10000.00</td>\n",
       "    </tr>\n",
       "    <tr>\n",
       "      <th>mean</th>\n",
       "      <td>5966.03</td>\n",
       "      <td>-0.24</td>\n",
       "      <td>0.28</td>\n",
       "      <td>0.91</td>\n",
       "      <td>0.26</td>\n",
       "      <td>-0.05</td>\n",
       "      <td>0.13</td>\n",
       "      <td>-0.07</td>\n",
       "      <td>-0.06</td>\n",
       "      <td>0.80</td>\n",
       "      <td>...</td>\n",
       "      <td>-0.05</td>\n",
       "      <td>-0.15</td>\n",
       "      <td>-0.03</td>\n",
       "      <td>0.02</td>\n",
       "      <td>0.09</td>\n",
       "      <td>0.11</td>\n",
       "      <td>0.01</td>\n",
       "      <td>0.00</td>\n",
       "      <td>63.03</td>\n",
       "      <td>0.00</td>\n",
       "    </tr>\n",
       "    <tr>\n",
       "      <th>std</th>\n",
       "      <td>4473.40</td>\n",
       "      <td>1.52</td>\n",
       "      <td>1.31</td>\n",
       "      <td>1.16</td>\n",
       "      <td>1.44</td>\n",
       "      <td>1.18</td>\n",
       "      <td>1.31</td>\n",
       "      <td>1.08</td>\n",
       "      <td>1.26</td>\n",
       "      <td>1.16</td>\n",
       "      <td>...</td>\n",
       "      <td>0.91</td>\n",
       "      <td>0.63</td>\n",
       "      <td>0.49</td>\n",
       "      <td>0.59</td>\n",
       "      <td>0.43</td>\n",
       "      <td>0.56</td>\n",
       "      <td>0.41</td>\n",
       "      <td>0.27</td>\n",
       "      <td>184.49</td>\n",
       "      <td>0.06</td>\n",
       "    </tr>\n",
       "    <tr>\n",
       "      <th>min</th>\n",
       "      <td>0.00</td>\n",
       "      <td>-27.67</td>\n",
       "      <td>-34.61</td>\n",
       "      <td>-15.50</td>\n",
       "      <td>-4.66</td>\n",
       "      <td>-32.09</td>\n",
       "      <td>-23.50</td>\n",
       "      <td>-26.55</td>\n",
       "      <td>-23.63</td>\n",
       "      <td>-6.33</td>\n",
       "      <td>...</td>\n",
       "      <td>-11.47</td>\n",
       "      <td>-8.53</td>\n",
       "      <td>-15.14</td>\n",
       "      <td>-2.51</td>\n",
       "      <td>-2.58</td>\n",
       "      <td>-1.34</td>\n",
       "      <td>-7.98</td>\n",
       "      <td>-3.51</td>\n",
       "      <td>0.00</td>\n",
       "      <td>0.00</td>\n",
       "    </tr>\n",
       "    <tr>\n",
       "      <th>25%</th>\n",
       "      <td>2072.75</td>\n",
       "      <td>-1.01</td>\n",
       "      <td>-0.21</td>\n",
       "      <td>0.41</td>\n",
       "      <td>-0.61</td>\n",
       "      <td>-0.64</td>\n",
       "      <td>-0.63</td>\n",
       "      <td>-0.54</td>\n",
       "      <td>-0.19</td>\n",
       "      <td>0.07</td>\n",
       "      <td>...</td>\n",
       "      <td>-0.27</td>\n",
       "      <td>-0.55</td>\n",
       "      <td>-0.17</td>\n",
       "      <td>-0.33</td>\n",
       "      <td>-0.16</td>\n",
       "      <td>-0.33</td>\n",
       "      <td>-0.08</td>\n",
       "      <td>-0.02</td>\n",
       "      <td>5.00</td>\n",
       "      <td>0.00</td>\n",
       "    </tr>\n",
       "    <tr>\n",
       "      <th>50%</th>\n",
       "      <td>4563.50</td>\n",
       "      <td>-0.37</td>\n",
       "      <td>0.29</td>\n",
       "      <td>0.94</td>\n",
       "      <td>0.22</td>\n",
       "      <td>-0.15</td>\n",
       "      <td>-0.15</td>\n",
       "      <td>-0.06</td>\n",
       "      <td>0.01</td>\n",
       "      <td>0.81</td>\n",
       "      <td>...</td>\n",
       "      <td>-0.12</td>\n",
       "      <td>-0.14</td>\n",
       "      <td>-0.05</td>\n",
       "      <td>0.08</td>\n",
       "      <td>0.12</td>\n",
       "      <td>0.04</td>\n",
       "      <td>-0.00</td>\n",
       "      <td>0.02</td>\n",
       "      <td>15.95</td>\n",
       "      <td>0.00</td>\n",
       "    </tr>\n",
       "    <tr>\n",
       "      <th>75%</th>\n",
       "      <td>10233.25</td>\n",
       "      <td>1.15</td>\n",
       "      <td>0.90</td>\n",
       "      <td>1.60</td>\n",
       "      <td>1.13</td>\n",
       "      <td>0.37</td>\n",
       "      <td>0.51</td>\n",
       "      <td>0.48</td>\n",
       "      <td>0.27</td>\n",
       "      <td>1.51</td>\n",
       "      <td>...</td>\n",
       "      <td>0.03</td>\n",
       "      <td>0.25</td>\n",
       "      <td>0.08</td>\n",
       "      <td>0.41</td>\n",
       "      <td>0.36</td>\n",
       "      <td>0.48</td>\n",
       "      <td>0.12</td>\n",
       "      <td>0.08</td>\n",
       "      <td>50.96</td>\n",
       "      <td>0.00</td>\n",
       "    </tr>\n",
       "    <tr>\n",
       "      <th>max</th>\n",
       "      <td>15012.00</td>\n",
       "      <td>1.96</td>\n",
       "      <td>8.64</td>\n",
       "      <td>4.10</td>\n",
       "      <td>10.46</td>\n",
       "      <td>34.10</td>\n",
       "      <td>21.39</td>\n",
       "      <td>34.30</td>\n",
       "      <td>5.06</td>\n",
       "      <td>10.39</td>\n",
       "      <td>...</td>\n",
       "      <td>22.59</td>\n",
       "      <td>4.53</td>\n",
       "      <td>13.88</td>\n",
       "      <td>3.20</td>\n",
       "      <td>5.53</td>\n",
       "      <td>3.52</td>\n",
       "      <td>8.25</td>\n",
       "      <td>4.86</td>\n",
       "      <td>7712.43</td>\n",
       "      <td>1.00</td>\n",
       "    </tr>\n",
       "  </tbody>\n",
       "</table>\n",
       "<p>8 rows × 31 columns</p>\n",
       "</div>"
      ],
      "text/plain": [
       "           Time        V1        V2        V3        V4        V5        V6  \\\n",
       "count  10000.00  10000.00  10000.00  10000.00  10000.00  10000.00  10000.00   \n",
       "mean    5966.03     -0.24      0.28      0.91      0.26     -0.05      0.13   \n",
       "std     4473.40      1.52      1.31      1.16      1.44      1.18      1.31   \n",
       "min        0.00    -27.67    -34.61    -15.50     -4.66    -32.09    -23.50   \n",
       "25%     2072.75     -1.01     -0.21      0.41     -0.61     -0.64     -0.63   \n",
       "50%     4563.50     -0.37      0.29      0.94      0.22     -0.15     -0.15   \n",
       "75%    10233.25      1.15      0.90      1.60      1.13      0.37      0.51   \n",
       "max    15012.00      1.96      8.64      4.10     10.46     34.10     21.39   \n",
       "\n",
       "             V7        V8        V9  ...       V21       V22       V23  \\\n",
       "count  10000.00  10000.00  10000.00  ...  10000.00  10000.00  10000.00   \n",
       "mean      -0.07     -0.06      0.80  ...     -0.05     -0.15     -0.03   \n",
       "std        1.08      1.26      1.16  ...      0.91      0.63      0.49   \n",
       "min      -26.55    -23.63     -6.33  ...    -11.47     -8.53    -15.14   \n",
       "25%       -0.54     -0.19      0.07  ...     -0.27     -0.55     -0.17   \n",
       "50%       -0.06      0.01      0.81  ...     -0.12     -0.14     -0.05   \n",
       "75%        0.48      0.27      1.51  ...      0.03      0.25      0.08   \n",
       "max       34.30      5.06     10.39  ...     22.59      4.53     13.88   \n",
       "\n",
       "            V24       V25       V26       V27       V28    Amount     Class  \n",
       "count  10000.00  10000.00  10000.00  10000.00  10000.00  10000.00  10000.00  \n",
       "mean       0.02      0.09      0.11      0.01      0.00     63.03      0.00  \n",
       "std        0.59      0.43      0.56      0.41      0.27    184.49      0.06  \n",
       "min       -2.51     -2.58     -1.34     -7.98     -3.51      0.00      0.00  \n",
       "25%       -0.33     -0.16     -0.33     -0.08     -0.02      5.00      0.00  \n",
       "50%        0.08      0.12      0.04     -0.00      0.02     15.95      0.00  \n",
       "75%        0.41      0.36      0.48      0.12      0.08     50.96      0.00  \n",
       "max        3.20      5.53      3.52      8.25      4.86   7712.43      1.00  \n",
       "\n",
       "[8 rows x 31 columns]"
      ]
     },
     "execution_count": 2,
     "metadata": {},
     "output_type": "execute_result"
    }
   ],
   "source": [
    "# Read data and describe\n",
    "df = pd.read_csv('creditcard_10k.csv.gz', compression='gzip')\n",
    "df.describe().round(2)"
   ]
  },
  {
   "cell_type": "code",
   "execution_count": 3,
   "metadata": {
    "ExecuteTime": {
     "end_time": "2023-02-15T17:07:54.483756Z",
     "start_time": "2023-02-15T17:07:53.868755Z"
    }
   },
   "outputs": [
    {
     "data": {
      "text/plain": [
       "<matplotlib.legend.Legend at 0x2334f1a36a0>"
      ]
     },
     "execution_count": 3,
     "metadata": {},
     "output_type": "execute_result"
    },
    {
     "data": {
      "image/png": "[encoded data removed]",
      "text/plain": [
       "<Figure size 2500x800 with 1 Axes>"
      ]
     },
     "metadata": {},
     "output_type": "display_data"
    }
   ],
   "source": [
    "pca_describe = df.describe().loc[['mean', 'std']].transpose().drop(['Time', 'Amount', 'Class'])\n",
    "plt.figure(figsize=(25, 8))\n",
    "plt.plot(pca_describe['mean'], label='mean')\n",
    "plt.plot(pca_describe['std'], label='std')\n",
    "plt.legend()"
   ]
  },
  {
   "cell_type": "markdown",
   "metadata": {},
   "source": [
    "There are 2 types of features: PCA components which correspond to V1 to V28 and Time, Amount and Class. Looking at the mean of the PCA components we can see a value close to 0 for most except for V12 with values below -1."
   ]
  },
  {
   "cell_type": "markdown",
   "metadata": {},
   "source": [
    "**Question 2**:\n",
    "\n",
    "Split the data into `X` and `y` (`Class` column of the `df`).  \n",
    "\n",
    "We will use **unsupervised** Anomaly Detection algorithms to find the outliers, and use the `Class` feature that tells whether the transaction is legitimate or fraudulent only as target labels for **metric** to check how well we were able to recognize the outliers."
   ]
  },
  {
   "cell_type": "code",
   "execution_count": 4,
   "metadata": {
    "ExecuteTime": {
     "end_time": "2023-02-15T17:07:54.499754Z",
     "start_time": "2023-02-15T17:07:54.489754Z"
    }
   },
   "outputs": [],
   "source": [
    "target = 'Class'\n",
    "\n",
    "X = df.drop(target, axis=1)\n",
    "y = df[target]"
   ]
  },
  {
   "cell_type": "markdown",
   "metadata": {},
   "source": [
    "**Question 3:**\n",
    "\n",
    "We will be using and comparing behavior of 2 Anomaly Detection algorithms: Local Outlier Factor and Isolation Forest.   \n",
    "   - Which one of them is based on distance?  \n",
    "   - What preprocessing is required for distance-based algorithms?\n",
    "   - Perform the preprocessing on all features"
   ]
  },
  {
   "cell_type": "markdown",
   "metadata": {},
   "source": [
    "**Local Outlier Factor (LOF)** is based on distance as it measures the distance of the k nearest neighbors to decide whether a point is an outlier or inlier. Thus, it works best when trying to detect local outliers as it is not context aware. It can be tweaked with a high value of k to detect global outliers.\n",
    "\n",
    "As it is a distance based algorithm, it requires scaling as an essential part of preprocessing.\n",
    "\n",
    "**Isolation forest (IF)** is based on isolating points through divisions in the features and then randomly selecting a split value between the max and min of the selected feature. \n",
    "\n",
    "Preprocessing:\n",
    "<br>-Remove unused features\n",
    "<br>-Scale\n",
    "<br>-Encode categoricals\n"
   ]
  },
  {
   "cell_type": "code",
   "execution_count": 5,
   "metadata": {
    "ExecuteTime": {
     "end_time": "2023-02-15T17:07:54.562277Z",
     "start_time": "2023-02-15T17:07:54.504284Z"
    }
   },
   "outputs": [
    {
     "data": {
      "text/html": [
       "<div>\n",
       "<style scoped>\n",
       "    .dataframe tbody tr th:only-of-type {\n",
       "        vertical-align: middle;\n",
       "    }\n",
       "\n",
       "    .dataframe tbody tr th {\n",
       "        vertical-align: top;\n",
       "    }\n",
       "\n",
       "    .dataframe thead th {\n",
       "        text-align: right;\n",
       "    }\n",
       "</style>\n",
       "<table border=\"1\" class=\"dataframe\">\n",
       "  <thead>\n",
       "    <tr style=\"text-align: right;\">\n",
       "      <th></th>\n",
       "      <th>V1</th>\n",
       "      <th>V2</th>\n",
       "      <th>V3</th>\n",
       "      <th>V4</th>\n",
       "      <th>V5</th>\n",
       "      <th>V6</th>\n",
       "      <th>V7</th>\n",
       "      <th>V8</th>\n",
       "      <th>V9</th>\n",
       "      <th>V10</th>\n",
       "      <th>...</th>\n",
       "      <th>V20</th>\n",
       "      <th>V21</th>\n",
       "      <th>V22</th>\n",
       "      <th>V23</th>\n",
       "      <th>V24</th>\n",
       "      <th>V25</th>\n",
       "      <th>V26</th>\n",
       "      <th>V27</th>\n",
       "      <th>V28</th>\n",
       "      <th>Amount</th>\n",
       "    </tr>\n",
       "  </thead>\n",
       "  <tbody>\n",
       "    <tr>\n",
       "      <th>0</th>\n",
       "      <td>-1.359807</td>\n",
       "      <td>-0.072781</td>\n",
       "      <td>2.536347</td>\n",
       "      <td>1.378155</td>\n",
       "      <td>-0.338321</td>\n",
       "      <td>0.462388</td>\n",
       "      <td>0.239599</td>\n",
       "      <td>0.098698</td>\n",
       "      <td>0.363787</td>\n",
       "      <td>0.090794</td>\n",
       "      <td>...</td>\n",
       "      <td>0.251412</td>\n",
       "      <td>-0.018307</td>\n",
       "      <td>0.277838</td>\n",
       "      <td>-0.110474</td>\n",
       "      <td>0.066928</td>\n",
       "      <td>0.128539</td>\n",
       "      <td>-0.189115</td>\n",
       "      <td>0.133558</td>\n",
       "      <td>-0.021053</td>\n",
       "      <td>149.62</td>\n",
       "    </tr>\n",
       "    <tr>\n",
       "      <th>1</th>\n",
       "      <td>1.191857</td>\n",
       "      <td>0.266151</td>\n",
       "      <td>0.166480</td>\n",
       "      <td>0.448154</td>\n",
       "      <td>0.060018</td>\n",
       "      <td>-0.082361</td>\n",
       "      <td>-0.078803</td>\n",
       "      <td>0.085102</td>\n",
       "      <td>-0.255425</td>\n",
       "      <td>-0.166974</td>\n",
       "      <td>...</td>\n",
       "      <td>-0.069083</td>\n",
       "      <td>-0.225775</td>\n",
       "      <td>-0.638672</td>\n",
       "      <td>0.101288</td>\n",
       "      <td>-0.339846</td>\n",
       "      <td>0.167170</td>\n",
       "      <td>0.125895</td>\n",
       "      <td>-0.008983</td>\n",
       "      <td>0.014724</td>\n",
       "      <td>2.69</td>\n",
       "    </tr>\n",
       "    <tr>\n",
       "      <th>2</th>\n",
       "      <td>-1.358354</td>\n",
       "      <td>-1.340163</td>\n",
       "      <td>1.773209</td>\n",
       "      <td>0.379780</td>\n",
       "      <td>-0.503198</td>\n",
       "      <td>1.800499</td>\n",
       "      <td>0.791461</td>\n",
       "      <td>0.247676</td>\n",
       "      <td>-1.514654</td>\n",
       "      <td>0.207643</td>\n",
       "      <td>...</td>\n",
       "      <td>0.524980</td>\n",
       "      <td>0.247998</td>\n",
       "      <td>0.771679</td>\n",
       "      <td>0.909412</td>\n",
       "      <td>-0.689281</td>\n",
       "      <td>-0.327642</td>\n",
       "      <td>-0.139097</td>\n",
       "      <td>-0.055353</td>\n",
       "      <td>-0.059752</td>\n",
       "      <td>378.66</td>\n",
       "    </tr>\n",
       "    <tr>\n",
       "      <th>3</th>\n",
       "      <td>-0.966272</td>\n",
       "      <td>-0.185226</td>\n",
       "      <td>1.792993</td>\n",
       "      <td>-0.863291</td>\n",
       "      <td>-0.010309</td>\n",
       "      <td>1.247203</td>\n",
       "      <td>0.237609</td>\n",
       "      <td>0.377436</td>\n",
       "      <td>-1.387024</td>\n",
       "      <td>-0.054952</td>\n",
       "      <td>...</td>\n",
       "      <td>-0.208038</td>\n",
       "      <td>-0.108300</td>\n",
       "      <td>0.005274</td>\n",
       "      <td>-0.190321</td>\n",
       "      <td>-1.175575</td>\n",
       "      <td>0.647376</td>\n",
       "      <td>-0.221929</td>\n",
       "      <td>0.062723</td>\n",
       "      <td>0.061458</td>\n",
       "      <td>123.50</td>\n",
       "    </tr>\n",
       "    <tr>\n",
       "      <th>4</th>\n",
       "      <td>-1.158233</td>\n",
       "      <td>0.877737</td>\n",
       "      <td>1.548718</td>\n",
       "      <td>0.403034</td>\n",
       "      <td>-0.407193</td>\n",
       "      <td>0.095921</td>\n",
       "      <td>0.592941</td>\n",
       "      <td>-0.270533</td>\n",
       "      <td>0.817739</td>\n",
       "      <td>0.753074</td>\n",
       "      <td>...</td>\n",
       "      <td>0.408542</td>\n",
       "      <td>-0.009431</td>\n",
       "      <td>0.798278</td>\n",
       "      <td>-0.137458</td>\n",
       "      <td>0.141267</td>\n",
       "      <td>-0.206010</td>\n",
       "      <td>0.502292</td>\n",
       "      <td>0.219422</td>\n",
       "      <td>0.215153</td>\n",
       "      <td>69.99</td>\n",
       "    </tr>\n",
       "  </tbody>\n",
       "</table>\n",
       "<p>5 rows × 29 columns</p>\n",
       "</div>"
      ],
      "text/plain": [
       "         V1        V2        V3        V4        V5        V6        V7  \\\n",
       "0 -1.359807 -0.072781  2.536347  1.378155 -0.338321  0.462388  0.239599   \n",
       "1  1.191857  0.266151  0.166480  0.448154  0.060018 -0.082361 -0.078803   \n",
       "2 -1.358354 -1.340163  1.773209  0.379780 -0.503198  1.800499  0.791461   \n",
       "3 -0.966272 -0.185226  1.792993 -0.863291 -0.010309  1.247203  0.237609   \n",
       "4 -1.158233  0.877737  1.548718  0.403034 -0.407193  0.095921  0.592941   \n",
       "\n",
       "         V8        V9       V10  ...       V20       V21       V22       V23  \\\n",
       "0  0.098698  0.363787  0.090794  ...  0.251412 -0.018307  0.277838 -0.110474   \n",
       "1  0.085102 -0.255425 -0.166974  ... -0.069083 -0.225775 -0.638672  0.101288   \n",
       "2  0.247676 -1.514654  0.207643  ...  0.524980  0.247998  0.771679  0.909412   \n",
       "3  0.377436 -1.387024 -0.054952  ... -0.208038 -0.108300  0.005274 -0.190321   \n",
       "4 -0.270533  0.817739  0.753074  ...  0.408542 -0.009431  0.798278 -0.137458   \n",
       "\n",
       "        V24       V25       V26       V27       V28  Amount  \n",
       "0  0.066928  0.128539 -0.189115  0.133558 -0.021053  149.62  \n",
       "1 -0.339846  0.167170  0.125895 -0.008983  0.014724    2.69  \n",
       "2 -0.689281 -0.327642 -0.139097 -0.055353 -0.059752  378.66  \n",
       "3 -1.175575  0.647376 -0.221929  0.062723  0.061458  123.50  \n",
       "4  0.141267 -0.206010  0.502292  0.219422  0.215153   69.99  \n",
       "\n",
       "[5 rows x 29 columns]"
      ]
     },
     "execution_count": 5,
     "metadata": {},
     "output_type": "execute_result"
    }
   ],
   "source": [
    "X = X.drop(['Time'], axis=1)\n",
    "X.head()"
   ]
  },
  {
   "cell_type": "code",
   "execution_count": 6,
   "metadata": {
    "ExecuteTime": {
     "end_time": "2023-02-15T17:07:54.594276Z",
     "start_time": "2023-02-15T17:07:54.565276Z"
    }
   },
   "outputs": [],
   "source": [
    "scaler = MinMaxScaler()\n",
    "scaled_X = scaler.fit_transform(X.drop(columns=['Amount']))\n",
    "scaled_X = pd.DataFrame(scaled_X, columns = X.drop(columns=['Amount']).columns)"
   ]
  },
  {
   "cell_type": "code",
   "execution_count": 7,
   "metadata": {
    "ExecuteTime": {
     "end_time": "2023-02-15T17:07:54.642279Z",
     "start_time": "2023-02-15T17:07:54.598276Z"
    }
   },
   "outputs": [
    {
     "data": {
      "text/html": [
       "<div>\n",
       "<style scoped>\n",
       "    .dataframe tbody tr th:only-of-type {\n",
       "        vertical-align: middle;\n",
       "    }\n",
       "\n",
       "    .dataframe tbody tr th {\n",
       "        vertical-align: top;\n",
       "    }\n",
       "\n",
       "    .dataframe thead th {\n",
       "        text-align: right;\n",
       "    }\n",
       "</style>\n",
       "<table border=\"1\" class=\"dataframe\">\n",
       "  <thead>\n",
       "    <tr style=\"text-align: right;\">\n",
       "      <th></th>\n",
       "      <th>V1</th>\n",
       "      <th>V2</th>\n",
       "      <th>V3</th>\n",
       "      <th>V4</th>\n",
       "      <th>V5</th>\n",
       "      <th>V6</th>\n",
       "      <th>V7</th>\n",
       "      <th>V8</th>\n",
       "      <th>V9</th>\n",
       "      <th>V10</th>\n",
       "      <th>...</th>\n",
       "      <th>V19</th>\n",
       "      <th>V20</th>\n",
       "      <th>V21</th>\n",
       "      <th>V22</th>\n",
       "      <th>V23</th>\n",
       "      <th>V24</th>\n",
       "      <th>V25</th>\n",
       "      <th>V26</th>\n",
       "      <th>V27</th>\n",
       "      <th>V28</th>\n",
       "    </tr>\n",
       "  </thead>\n",
       "  <tbody>\n",
       "    <tr>\n",
       "      <th>0</th>\n",
       "      <td>0.887945</td>\n",
       "      <td>0.798607</td>\n",
       "      <td>0.920126</td>\n",
       "      <td>0.399172</td>\n",
       "      <td>0.479727</td>\n",
       "      <td>0.533732</td>\n",
       "      <td>0.440216</td>\n",
       "      <td>0.827076</td>\n",
       "      <td>0.400270</td>\n",
       "      <td>0.521904</td>\n",
       "      <td>...</td>\n",
       "      <td>0.562466</td>\n",
       "      <td>0.635431</td>\n",
       "      <td>0.336201</td>\n",
       "      <td>0.674112</td>\n",
       "      <td>0.518042</td>\n",
       "      <td>0.451513</td>\n",
       "      <td>0.333961</td>\n",
       "      <td>0.236710</td>\n",
       "      <td>0.499656</td>\n",
       "      <td>0.416749</td>\n",
       "    </tr>\n",
       "    <tr>\n",
       "      <th>1</th>\n",
       "      <td>0.974060</td>\n",
       "      <td>0.806445</td>\n",
       "      <td>0.799202</td>\n",
       "      <td>0.337666</td>\n",
       "      <td>0.485745</td>\n",
       "      <td>0.521596</td>\n",
       "      <td>0.434984</td>\n",
       "      <td>0.826602</td>\n",
       "      <td>0.363242</td>\n",
       "      <td>0.511777</td>\n",
       "      <td>...</td>\n",
       "      <td>0.504522</td>\n",
       "      <td>0.620376</td>\n",
       "      <td>0.330109</td>\n",
       "      <td>0.603944</td>\n",
       "      <td>0.525339</td>\n",
       "      <td>0.380306</td>\n",
       "      <td>0.338729</td>\n",
       "      <td>0.301582</td>\n",
       "      <td>0.490874</td>\n",
       "      <td>0.421023</td>\n",
       "    </tr>\n",
       "    <tr>\n",
       "      <th>2</th>\n",
       "      <td>0.887994</td>\n",
       "      <td>0.769300</td>\n",
       "      <td>0.881186</td>\n",
       "      <td>0.333144</td>\n",
       "      <td>0.477236</td>\n",
       "      <td>0.563541</td>\n",
       "      <td>0.449285</td>\n",
       "      <td>0.832268</td>\n",
       "      <td>0.287941</td>\n",
       "      <td>0.526495</td>\n",
       "      <td>...</td>\n",
       "      <td>0.281498</td>\n",
       "      <td>0.648282</td>\n",
       "      <td>0.344020</td>\n",
       "      <td>0.711921</td>\n",
       "      <td>0.553185</td>\n",
       "      <td>0.319137</td>\n",
       "      <td>0.277659</td>\n",
       "      <td>0.247011</td>\n",
       "      <td>0.488017</td>\n",
       "      <td>0.412125</td>\n",
       "    </tr>\n",
       "    <tr>\n",
       "      <th>3</th>\n",
       "      <td>0.901226</td>\n",
       "      <td>0.796007</td>\n",
       "      <td>0.882196</td>\n",
       "      <td>0.250933</td>\n",
       "      <td>0.484682</td>\n",
       "      <td>0.551215</td>\n",
       "      <td>0.440184</td>\n",
       "      <td>0.836791</td>\n",
       "      <td>0.295573</td>\n",
       "      <td>0.516178</td>\n",
       "      <td>...</td>\n",
       "      <td>0.389974</td>\n",
       "      <td>0.613849</td>\n",
       "      <td>0.333558</td>\n",
       "      <td>0.653245</td>\n",
       "      <td>0.515291</td>\n",
       "      <td>0.234010</td>\n",
       "      <td>0.397995</td>\n",
       "      <td>0.229953</td>\n",
       "      <td>0.495292</td>\n",
       "      <td>0.426607</td>\n",
       "    </tr>\n",
       "    <tr>\n",
       "      <th>4</th>\n",
       "      <td>0.894748</td>\n",
       "      <td>0.820588</td>\n",
       "      <td>0.869731</td>\n",
       "      <td>0.334682</td>\n",
       "      <td>0.478686</td>\n",
       "      <td>0.525568</td>\n",
       "      <td>0.446023</td>\n",
       "      <td>0.814208</td>\n",
       "      <td>0.427416</td>\n",
       "      <td>0.547923</td>\n",
       "      <td>...</td>\n",
       "      <td>0.604570</td>\n",
       "      <td>0.642812</td>\n",
       "      <td>0.336461</td>\n",
       "      <td>0.713957</td>\n",
       "      <td>0.517112</td>\n",
       "      <td>0.464526</td>\n",
       "      <td>0.292671</td>\n",
       "      <td>0.379095</td>\n",
       "      <td>0.504947</td>\n",
       "      <td>0.444970</td>\n",
       "    </tr>\n",
       "    <tr>\n",
       "      <th>...</th>\n",
       "      <td>...</td>\n",
       "      <td>...</td>\n",
       "      <td>...</td>\n",
       "      <td>...</td>\n",
       "      <td>...</td>\n",
       "      <td>...</td>\n",
       "      <td>...</td>\n",
       "      <td>...</td>\n",
       "      <td>...</td>\n",
       "      <td>...</td>\n",
       "      <td>...</td>\n",
       "      <td>...</td>\n",
       "      <td>...</td>\n",
       "      <td>...</td>\n",
       "      <td>...</td>\n",
       "      <td>...</td>\n",
       "      <td>...</td>\n",
       "      <td>...</td>\n",
       "      <td>...</td>\n",
       "      <td>...</td>\n",
       "      <td>...</td>\n",
       "    </tr>\n",
       "    <tr>\n",
       "      <th>9995</th>\n",
       "      <td>0.973617</td>\n",
       "      <td>0.814073</td>\n",
       "      <td>0.794489</td>\n",
       "      <td>0.476169</td>\n",
       "      <td>0.491647</td>\n",
       "      <td>0.519436</td>\n",
       "      <td>0.441642</td>\n",
       "      <td>0.815448</td>\n",
       "      <td>0.406803</td>\n",
       "      <td>0.531351</td>\n",
       "      <td>...</td>\n",
       "      <td>0.433902</td>\n",
       "      <td>0.618984</td>\n",
       "      <td>0.330040</td>\n",
       "      <td>0.609848</td>\n",
       "      <td>0.515550</td>\n",
       "      <td>0.348203</td>\n",
       "      <td>0.400435</td>\n",
       "      <td>0.278889</td>\n",
       "      <td>0.487285</td>\n",
       "      <td>0.420305</td>\n",
       "    </tr>\n",
       "    <tr>\n",
       "      <th>9996</th>\n",
       "      <td>0.975295</td>\n",
       "      <td>0.801435</td>\n",
       "      <td>0.842860</td>\n",
       "      <td>0.333586</td>\n",
       "      <td>0.470135</td>\n",
       "      <td>0.499644</td>\n",
       "      <td>0.429982</td>\n",
       "      <td>0.816478</td>\n",
       "      <td>0.480132</td>\n",
       "      <td>0.497475</td>\n",
       "      <td>...</td>\n",
       "      <td>0.481360</td>\n",
       "      <td>0.617909</td>\n",
       "      <td>0.327257</td>\n",
       "      <td>0.596929</td>\n",
       "      <td>0.528933</td>\n",
       "      <td>0.559936</td>\n",
       "      <td>0.309333</td>\n",
       "      <td>0.425956</td>\n",
       "      <td>0.485742</td>\n",
       "      <td>0.420731</td>\n",
       "    </tr>\n",
       "    <tr>\n",
       "      <th>9997</th>\n",
       "      <td>0.901042</td>\n",
       "      <td>0.817510</td>\n",
       "      <td>0.909843</td>\n",
       "      <td>0.281041</td>\n",
       "      <td>0.469742</td>\n",
       "      <td>0.509413</td>\n",
       "      <td>0.430080</td>\n",
       "      <td>0.840408</td>\n",
       "      <td>0.474164</td>\n",
       "      <td>0.456010</td>\n",
       "      <td>...</td>\n",
       "      <td>0.452286</td>\n",
       "      <td>0.611222</td>\n",
       "      <td>0.333308</td>\n",
       "      <td>0.642029</td>\n",
       "      <td>0.520949</td>\n",
       "      <td>0.564560</td>\n",
       "      <td>0.272066</td>\n",
       "      <td>0.430173</td>\n",
       "      <td>0.484781</td>\n",
       "      <td>0.423000</td>\n",
       "    </tr>\n",
       "    <tr>\n",
       "      <th>9998</th>\n",
       "      <td>0.882213</td>\n",
       "      <td>0.834419</td>\n",
       "      <td>0.867634</td>\n",
       "      <td>0.264184</td>\n",
       "      <td>0.469169</td>\n",
       "      <td>0.497593</td>\n",
       "      <td>0.431296</td>\n",
       "      <td>0.849628</td>\n",
       "      <td>0.435139</td>\n",
       "      <td>0.464377</td>\n",
       "      <td>...</td>\n",
       "      <td>0.428948</td>\n",
       "      <td>0.612364</td>\n",
       "      <td>0.330925</td>\n",
       "      <td>0.604295</td>\n",
       "      <td>0.525316</td>\n",
       "      <td>0.556986</td>\n",
       "      <td>0.284804</td>\n",
       "      <td>0.401680</td>\n",
       "      <td>0.480966</td>\n",
       "      <td>0.420202</td>\n",
       "    </tr>\n",
       "    <tr>\n",
       "      <th>9999</th>\n",
       "      <td>0.893955</td>\n",
       "      <td>0.834637</td>\n",
       "      <td>0.890652</td>\n",
       "      <td>0.479181</td>\n",
       "      <td>0.477222</td>\n",
       "      <td>0.520609</td>\n",
       "      <td>0.451711</td>\n",
       "      <td>0.829758</td>\n",
       "      <td>0.333289</td>\n",
       "      <td>0.499374</td>\n",
       "      <td>...</td>\n",
       "      <td>0.467988</td>\n",
       "      <td>0.638524</td>\n",
       "      <td>0.336426</td>\n",
       "      <td>0.638190</td>\n",
       "      <td>0.528878</td>\n",
       "      <td>0.556020</td>\n",
       "      <td>0.353738</td>\n",
       "      <td>0.268734</td>\n",
       "      <td>0.482636</td>\n",
       "      <td>0.422627</td>\n",
       "    </tr>\n",
       "  </tbody>\n",
       "</table>\n",
       "<p>10000 rows × 28 columns</p>\n",
       "</div>"
      ],
      "text/plain": [
       "            V1        V2        V3        V4        V5        V6        V7  \\\n",
       "0     0.887945  0.798607  0.920126  0.399172  0.479727  0.533732  0.440216   \n",
       "1     0.974060  0.806445  0.799202  0.337666  0.485745  0.521596  0.434984   \n",
       "2     0.887994  0.769300  0.881186  0.333144  0.477236  0.563541  0.449285   \n",
       "3     0.901226  0.796007  0.882196  0.250933  0.484682  0.551215  0.440184   \n",
       "4     0.894748  0.820588  0.869731  0.334682  0.478686  0.525568  0.446023   \n",
       "...        ...       ...       ...       ...       ...       ...       ...   \n",
       "9995  0.973617  0.814073  0.794489  0.476169  0.491647  0.519436  0.441642   \n",
       "9996  0.975295  0.801435  0.842860  0.333586  0.470135  0.499644  0.429982   \n",
       "9997  0.901042  0.817510  0.909843  0.281041  0.469742  0.509413  0.430080   \n",
       "9998  0.882213  0.834419  0.867634  0.264184  0.469169  0.497593  0.431296   \n",
       "9999  0.893955  0.834637  0.890652  0.479181  0.477222  0.520609  0.451711   \n",
       "\n",
       "            V8        V9       V10  ...       V19       V20       V21  \\\n",
       "0     0.827076  0.400270  0.521904  ...  0.562466  0.635431  0.336201   \n",
       "1     0.826602  0.363242  0.511777  ...  0.504522  0.620376  0.330109   \n",
       "2     0.832268  0.287941  0.526495  ...  0.281498  0.648282  0.344020   \n",
       "3     0.836791  0.295573  0.516178  ...  0.389974  0.613849  0.333558   \n",
       "4     0.814208  0.427416  0.547923  ...  0.604570  0.642812  0.336461   \n",
       "...        ...       ...       ...  ...       ...       ...       ...   \n",
       "9995  0.815448  0.406803  0.531351  ...  0.433902  0.618984  0.330040   \n",
       "9996  0.816478  0.480132  0.497475  ...  0.481360  0.617909  0.327257   \n",
       "9997  0.840408  0.474164  0.456010  ...  0.452286  0.611222  0.333308   \n",
       "9998  0.849628  0.435139  0.464377  ...  0.428948  0.612364  0.330925   \n",
       "9999  0.829758  0.333289  0.499374  ...  0.467988  0.638524  0.336426   \n",
       "\n",
       "           V22       V23       V24       V25       V26       V27       V28  \n",
       "0     0.674112  0.518042  0.451513  0.333961  0.236710  0.499656  0.416749  \n",
       "1     0.603944  0.525339  0.380306  0.338729  0.301582  0.490874  0.421023  \n",
       "2     0.711921  0.553185  0.319137  0.277659  0.247011  0.488017  0.412125  \n",
       "3     0.653245  0.515291  0.234010  0.397995  0.229953  0.495292  0.426607  \n",
       "4     0.713957  0.517112  0.464526  0.292671  0.379095  0.504947  0.444970  \n",
       "...        ...       ...       ...       ...       ...       ...       ...  \n",
       "9995  0.609848  0.515550  0.348203  0.400435  0.278889  0.487285  0.420305  \n",
       "9996  0.596929  0.528933  0.559936  0.309333  0.425956  0.485742  0.420731  \n",
       "9997  0.642029  0.520949  0.564560  0.272066  0.430173  0.484781  0.423000  \n",
       "9998  0.604295  0.525316  0.556986  0.284804  0.401680  0.480966  0.420202  \n",
       "9999  0.638190  0.528878  0.556020  0.353738  0.268734  0.482636  0.422627  \n",
       "\n",
       "[10000 rows x 28 columns]"
      ]
     },
     "execution_count": 7,
     "metadata": {},
     "output_type": "execute_result"
    }
   ],
   "source": [
    "scaled_X"
   ]
  },
  {
   "cell_type": "code",
   "execution_count": 8,
   "metadata": {
    "ExecuteTime": {
     "end_time": "2023-02-15T17:07:54.674275Z",
     "start_time": "2023-02-15T17:07:54.646277Z"
    }
   },
   "outputs": [],
   "source": [
    "standard_scaler = StandardScaler()\n",
    "scaled_amount = standard_scaler.fit_transform(X[['Amount']])"
   ]
  },
  {
   "cell_type": "code",
   "execution_count": 9,
   "metadata": {
    "ExecuteTime": {
     "end_time": "2023-02-15T17:07:54.706276Z",
     "start_time": "2023-02-15T17:07:54.678276Z"
    }
   },
   "outputs": [
    {
     "data": {
      "text/plain": [
       "array([[ 0.46938016],\n",
       "       [-0.32708798],\n",
       "       [ 1.7109446 ],\n",
       "       ...,\n",
       "       [-0.31971579],\n",
       "       [-0.31971579],\n",
       "       [ 0.52174443]])"
      ]
     },
     "execution_count": 9,
     "metadata": {},
     "output_type": "execute_result"
    }
   ],
   "source": [
    "scaled_amount"
   ]
  },
  {
   "cell_type": "code",
   "execution_count": 10,
   "metadata": {
    "ExecuteTime": {
     "end_time": "2023-02-15T17:07:54.737276Z",
     "start_time": "2023-02-15T17:07:54.714274Z"
    }
   },
   "outputs": [
    {
     "data": {
      "text/plain": [
       "(10000, 1)"
      ]
     },
     "execution_count": 10,
     "metadata": {},
     "output_type": "execute_result"
    }
   ],
   "source": [
    "scaled_amount.shape"
   ]
  },
  {
   "cell_type": "code",
   "execution_count": 11,
   "metadata": {
    "ExecuteTime": {
     "end_time": "2023-02-15T17:07:54.768278Z",
     "start_time": "2023-02-15T17:07:54.743276Z"
    }
   },
   "outputs": [
    {
     "data": {
      "text/html": [
       "<div>\n",
       "<style scoped>\n",
       "    .dataframe tbody tr th:only-of-type {\n",
       "        vertical-align: middle;\n",
       "    }\n",
       "\n",
       "    .dataframe tbody tr th {\n",
       "        vertical-align: top;\n",
       "    }\n",
       "\n",
       "    .dataframe thead th {\n",
       "        text-align: right;\n",
       "    }\n",
       "</style>\n",
       "<table border=\"1\" class=\"dataframe\">\n",
       "  <thead>\n",
       "    <tr style=\"text-align: right;\">\n",
       "      <th></th>\n",
       "      <th>Amount</th>\n",
       "    </tr>\n",
       "  </thead>\n",
       "  <tbody>\n",
       "    <tr>\n",
       "      <th>0</th>\n",
       "      <td>0.469380</td>\n",
       "    </tr>\n",
       "    <tr>\n",
       "      <th>1</th>\n",
       "      <td>-0.327088</td>\n",
       "    </tr>\n",
       "    <tr>\n",
       "      <th>2</th>\n",
       "      <td>1.710945</td>\n",
       "    </tr>\n",
       "    <tr>\n",
       "      <th>3</th>\n",
       "      <td>0.327791</td>\n",
       "    </tr>\n",
       "    <tr>\n",
       "      <th>4</th>\n",
       "      <td>0.037727</td>\n",
       "    </tr>\n",
       "  </tbody>\n",
       "</table>\n",
       "</div>"
      ],
      "text/plain": [
       "     Amount\n",
       "0  0.469380\n",
       "1 -0.327088\n",
       "2  1.710945\n",
       "3  0.327791\n",
       "4  0.037727"
      ]
     },
     "execution_count": 11,
     "metadata": {},
     "output_type": "execute_result"
    }
   ],
   "source": [
    "scaled_amount_df = pd.DataFrame(scaled_amount, columns = ['Amount'])\n",
    "scaled_amount_df.head()"
   ]
  },
  {
   "cell_type": "code",
   "execution_count": 12,
   "metadata": {
    "ExecuteTime": {
     "end_time": "2023-02-15T17:07:54.832279Z",
     "start_time": "2023-02-15T17:07:54.772276Z"
    }
   },
   "outputs": [
    {
     "data": {
      "text/html": [
       "<div>\n",
       "<style scoped>\n",
       "    .dataframe tbody tr th:only-of-type {\n",
       "        vertical-align: middle;\n",
       "    }\n",
       "\n",
       "    .dataframe tbody tr th {\n",
       "        vertical-align: top;\n",
       "    }\n",
       "\n",
       "    .dataframe thead th {\n",
       "        text-align: right;\n",
       "    }\n",
       "</style>\n",
       "<table border=\"1\" class=\"dataframe\">\n",
       "  <thead>\n",
       "    <tr style=\"text-align: right;\">\n",
       "      <th></th>\n",
       "      <th>V1</th>\n",
       "      <th>V2</th>\n",
       "      <th>V3</th>\n",
       "      <th>V4</th>\n",
       "      <th>V5</th>\n",
       "      <th>V6</th>\n",
       "      <th>V7</th>\n",
       "      <th>V8</th>\n",
       "      <th>V9</th>\n",
       "      <th>V10</th>\n",
       "      <th>...</th>\n",
       "      <th>V20</th>\n",
       "      <th>V21</th>\n",
       "      <th>V22</th>\n",
       "      <th>V23</th>\n",
       "      <th>V24</th>\n",
       "      <th>V25</th>\n",
       "      <th>V26</th>\n",
       "      <th>V27</th>\n",
       "      <th>V28</th>\n",
       "      <th>Amount</th>\n",
       "    </tr>\n",
       "  </thead>\n",
       "  <tbody>\n",
       "    <tr>\n",
       "      <th>0</th>\n",
       "      <td>0.887945</td>\n",
       "      <td>0.798607</td>\n",
       "      <td>0.920126</td>\n",
       "      <td>0.399172</td>\n",
       "      <td>0.479727</td>\n",
       "      <td>0.533732</td>\n",
       "      <td>0.440216</td>\n",
       "      <td>0.827076</td>\n",
       "      <td>0.400270</td>\n",
       "      <td>0.521904</td>\n",
       "      <td>...</td>\n",
       "      <td>0.635431</td>\n",
       "      <td>0.336201</td>\n",
       "      <td>0.674112</td>\n",
       "      <td>0.518042</td>\n",
       "      <td>0.451513</td>\n",
       "      <td>0.333961</td>\n",
       "      <td>0.236710</td>\n",
       "      <td>0.499656</td>\n",
       "      <td>0.416749</td>\n",
       "      <td>0.469380</td>\n",
       "    </tr>\n",
       "    <tr>\n",
       "      <th>1</th>\n",
       "      <td>0.974060</td>\n",
       "      <td>0.806445</td>\n",
       "      <td>0.799202</td>\n",
       "      <td>0.337666</td>\n",
       "      <td>0.485745</td>\n",
       "      <td>0.521596</td>\n",
       "      <td>0.434984</td>\n",
       "      <td>0.826602</td>\n",
       "      <td>0.363242</td>\n",
       "      <td>0.511777</td>\n",
       "      <td>...</td>\n",
       "      <td>0.620376</td>\n",
       "      <td>0.330109</td>\n",
       "      <td>0.603944</td>\n",
       "      <td>0.525339</td>\n",
       "      <td>0.380306</td>\n",
       "      <td>0.338729</td>\n",
       "      <td>0.301582</td>\n",
       "      <td>0.490874</td>\n",
       "      <td>0.421023</td>\n",
       "      <td>-0.327088</td>\n",
       "    </tr>\n",
       "    <tr>\n",
       "      <th>2</th>\n",
       "      <td>0.887994</td>\n",
       "      <td>0.769300</td>\n",
       "      <td>0.881186</td>\n",
       "      <td>0.333144</td>\n",
       "      <td>0.477236</td>\n",
       "      <td>0.563541</td>\n",
       "      <td>0.449285</td>\n",
       "      <td>0.832268</td>\n",
       "      <td>0.287941</td>\n",
       "      <td>0.526495</td>\n",
       "      <td>...</td>\n",
       "      <td>0.648282</td>\n",
       "      <td>0.344020</td>\n",
       "      <td>0.711921</td>\n",
       "      <td>0.553185</td>\n",
       "      <td>0.319137</td>\n",
       "      <td>0.277659</td>\n",
       "      <td>0.247011</td>\n",
       "      <td>0.488017</td>\n",
       "      <td>0.412125</td>\n",
       "      <td>1.710945</td>\n",
       "    </tr>\n",
       "    <tr>\n",
       "      <th>3</th>\n",
       "      <td>0.901226</td>\n",
       "      <td>0.796007</td>\n",
       "      <td>0.882196</td>\n",
       "      <td>0.250933</td>\n",
       "      <td>0.484682</td>\n",
       "      <td>0.551215</td>\n",
       "      <td>0.440184</td>\n",
       "      <td>0.836791</td>\n",
       "      <td>0.295573</td>\n",
       "      <td>0.516178</td>\n",
       "      <td>...</td>\n",
       "      <td>0.613849</td>\n",
       "      <td>0.333558</td>\n",
       "      <td>0.653245</td>\n",
       "      <td>0.515291</td>\n",
       "      <td>0.234010</td>\n",
       "      <td>0.397995</td>\n",
       "      <td>0.229953</td>\n",
       "      <td>0.495292</td>\n",
       "      <td>0.426607</td>\n",
       "      <td>0.327791</td>\n",
       "    </tr>\n",
       "    <tr>\n",
       "      <th>4</th>\n",
       "      <td>0.894748</td>\n",
       "      <td>0.820588</td>\n",
       "      <td>0.869731</td>\n",
       "      <td>0.334682</td>\n",
       "      <td>0.478686</td>\n",
       "      <td>0.525568</td>\n",
       "      <td>0.446023</td>\n",
       "      <td>0.814208</td>\n",
       "      <td>0.427416</td>\n",
       "      <td>0.547923</td>\n",
       "      <td>...</td>\n",
       "      <td>0.642812</td>\n",
       "      <td>0.336461</td>\n",
       "      <td>0.713957</td>\n",
       "      <td>0.517112</td>\n",
       "      <td>0.464526</td>\n",
       "      <td>0.292671</td>\n",
       "      <td>0.379095</td>\n",
       "      <td>0.504947</td>\n",
       "      <td>0.444970</td>\n",
       "      <td>0.037727</td>\n",
       "    </tr>\n",
       "    <tr>\n",
       "      <th>...</th>\n",
       "      <td>...</td>\n",
       "      <td>...</td>\n",
       "      <td>...</td>\n",
       "      <td>...</td>\n",
       "      <td>...</td>\n",
       "      <td>...</td>\n",
       "      <td>...</td>\n",
       "      <td>...</td>\n",
       "      <td>...</td>\n",
       "      <td>...</td>\n",
       "      <td>...</td>\n",
       "      <td>...</td>\n",
       "      <td>...</td>\n",
       "      <td>...</td>\n",
       "      <td>...</td>\n",
       "      <td>...</td>\n",
       "      <td>...</td>\n",
       "      <td>...</td>\n",
       "      <td>...</td>\n",
       "      <td>...</td>\n",
       "      <td>...</td>\n",
       "    </tr>\n",
       "    <tr>\n",
       "      <th>9995</th>\n",
       "      <td>0.973617</td>\n",
       "      <td>0.814073</td>\n",
       "      <td>0.794489</td>\n",
       "      <td>0.476169</td>\n",
       "      <td>0.491647</td>\n",
       "      <td>0.519436</td>\n",
       "      <td>0.441642</td>\n",
       "      <td>0.815448</td>\n",
       "      <td>0.406803</td>\n",
       "      <td>0.531351</td>\n",
       "      <td>...</td>\n",
       "      <td>0.618984</td>\n",
       "      <td>0.330040</td>\n",
       "      <td>0.609848</td>\n",
       "      <td>0.515550</td>\n",
       "      <td>0.348203</td>\n",
       "      <td>0.400435</td>\n",
       "      <td>0.278889</td>\n",
       "      <td>0.487285</td>\n",
       "      <td>0.420305</td>\n",
       "      <td>-0.053341</td>\n",
       "    </tr>\n",
       "    <tr>\n",
       "      <th>9996</th>\n",
       "      <td>0.975295</td>\n",
       "      <td>0.801435</td>\n",
       "      <td>0.842860</td>\n",
       "      <td>0.333586</td>\n",
       "      <td>0.470135</td>\n",
       "      <td>0.499644</td>\n",
       "      <td>0.429982</td>\n",
       "      <td>0.816478</td>\n",
       "      <td>0.480132</td>\n",
       "      <td>0.497475</td>\n",
       "      <td>...</td>\n",
       "      <td>0.617909</td>\n",
       "      <td>0.327257</td>\n",
       "      <td>0.596929</td>\n",
       "      <td>0.528933</td>\n",
       "      <td>0.559936</td>\n",
       "      <td>0.309333</td>\n",
       "      <td>0.425956</td>\n",
       "      <td>0.485742</td>\n",
       "      <td>0.420731</td>\n",
       "      <td>-0.275645</td>\n",
       "    </tr>\n",
       "    <tr>\n",
       "      <th>9997</th>\n",
       "      <td>0.901042</td>\n",
       "      <td>0.817510</td>\n",
       "      <td>0.909843</td>\n",
       "      <td>0.281041</td>\n",
       "      <td>0.469742</td>\n",
       "      <td>0.509413</td>\n",
       "      <td>0.430080</td>\n",
       "      <td>0.840408</td>\n",
       "      <td>0.474164</td>\n",
       "      <td>0.456010</td>\n",
       "      <td>...</td>\n",
       "      <td>0.611222</td>\n",
       "      <td>0.333308</td>\n",
       "      <td>0.642029</td>\n",
       "      <td>0.520949</td>\n",
       "      <td>0.564560</td>\n",
       "      <td>0.272066</td>\n",
       "      <td>0.430173</td>\n",
       "      <td>0.484781</td>\n",
       "      <td>0.423000</td>\n",
       "      <td>-0.319716</td>\n",
       "    </tr>\n",
       "    <tr>\n",
       "      <th>9998</th>\n",
       "      <td>0.882213</td>\n",
       "      <td>0.834419</td>\n",
       "      <td>0.867634</td>\n",
       "      <td>0.264184</td>\n",
       "      <td>0.469169</td>\n",
       "      <td>0.497593</td>\n",
       "      <td>0.431296</td>\n",
       "      <td>0.849628</td>\n",
       "      <td>0.435139</td>\n",
       "      <td>0.464377</td>\n",
       "      <td>...</td>\n",
       "      <td>0.612364</td>\n",
       "      <td>0.330925</td>\n",
       "      <td>0.604295</td>\n",
       "      <td>0.525316</td>\n",
       "      <td>0.556986</td>\n",
       "      <td>0.284804</td>\n",
       "      <td>0.401680</td>\n",
       "      <td>0.480966</td>\n",
       "      <td>0.420202</td>\n",
       "      <td>-0.319716</td>\n",
       "    </tr>\n",
       "    <tr>\n",
       "      <th>9999</th>\n",
       "      <td>0.893955</td>\n",
       "      <td>0.834637</td>\n",
       "      <td>0.890652</td>\n",
       "      <td>0.479181</td>\n",
       "      <td>0.477222</td>\n",
       "      <td>0.520609</td>\n",
       "      <td>0.451711</td>\n",
       "      <td>0.829758</td>\n",
       "      <td>0.333289</td>\n",
       "      <td>0.499374</td>\n",
       "      <td>...</td>\n",
       "      <td>0.638524</td>\n",
       "      <td>0.336426</td>\n",
       "      <td>0.638190</td>\n",
       "      <td>0.528878</td>\n",
       "      <td>0.556020</td>\n",
       "      <td>0.353738</td>\n",
       "      <td>0.268734</td>\n",
       "      <td>0.482636</td>\n",
       "      <td>0.422627</td>\n",
       "      <td>0.521744</td>\n",
       "    </tr>\n",
       "  </tbody>\n",
       "</table>\n",
       "<p>10000 rows × 29 columns</p>\n",
       "</div>"
      ],
      "text/plain": [
       "            V1        V2        V3        V4        V5        V6        V7  \\\n",
       "0     0.887945  0.798607  0.920126  0.399172  0.479727  0.533732  0.440216   \n",
       "1     0.974060  0.806445  0.799202  0.337666  0.485745  0.521596  0.434984   \n",
       "2     0.887994  0.769300  0.881186  0.333144  0.477236  0.563541  0.449285   \n",
       "3     0.901226  0.796007  0.882196  0.250933  0.484682  0.551215  0.440184   \n",
       "4     0.894748  0.820588  0.869731  0.334682  0.478686  0.525568  0.446023   \n",
       "...        ...       ...       ...       ...       ...       ...       ...   \n",
       "9995  0.973617  0.814073  0.794489  0.476169  0.491647  0.519436  0.441642   \n",
       "9996  0.975295  0.801435  0.842860  0.333586  0.470135  0.499644  0.429982   \n",
       "9997  0.901042  0.817510  0.909843  0.281041  0.469742  0.509413  0.430080   \n",
       "9998  0.882213  0.834419  0.867634  0.264184  0.469169  0.497593  0.431296   \n",
       "9999  0.893955  0.834637  0.890652  0.479181  0.477222  0.520609  0.451711   \n",
       "\n",
       "            V8        V9       V10  ...       V20       V21       V22  \\\n",
       "0     0.827076  0.400270  0.521904  ...  0.635431  0.336201  0.674112   \n",
       "1     0.826602  0.363242  0.511777  ...  0.620376  0.330109  0.603944   \n",
       "2     0.832268  0.287941  0.526495  ...  0.648282  0.344020  0.711921   \n",
       "3     0.836791  0.295573  0.516178  ...  0.613849  0.333558  0.653245   \n",
       "4     0.814208  0.427416  0.547923  ...  0.642812  0.336461  0.713957   \n",
       "...        ...       ...       ...  ...       ...       ...       ...   \n",
       "9995  0.815448  0.406803  0.531351  ...  0.618984  0.330040  0.609848   \n",
       "9996  0.816478  0.480132  0.497475  ...  0.617909  0.327257  0.596929   \n",
       "9997  0.840408  0.474164  0.456010  ...  0.611222  0.333308  0.642029   \n",
       "9998  0.849628  0.435139  0.464377  ...  0.612364  0.330925  0.604295   \n",
       "9999  0.829758  0.333289  0.499374  ...  0.638524  0.336426  0.638190   \n",
       "\n",
       "           V23       V24       V25       V26       V27       V28    Amount  \n",
       "0     0.518042  0.451513  0.333961  0.236710  0.499656  0.416749  0.469380  \n",
       "1     0.525339  0.380306  0.338729  0.301582  0.490874  0.421023 -0.327088  \n",
       "2     0.553185  0.319137  0.277659  0.247011  0.488017  0.412125  1.710945  \n",
       "3     0.515291  0.234010  0.397995  0.229953  0.495292  0.426607  0.327791  \n",
       "4     0.517112  0.464526  0.292671  0.379095  0.504947  0.444970  0.037727  \n",
       "...        ...       ...       ...       ...       ...       ...       ...  \n",
       "9995  0.515550  0.348203  0.400435  0.278889  0.487285  0.420305 -0.053341  \n",
       "9996  0.528933  0.559936  0.309333  0.425956  0.485742  0.420731 -0.275645  \n",
       "9997  0.520949  0.564560  0.272066  0.430173  0.484781  0.423000 -0.319716  \n",
       "9998  0.525316  0.556986  0.284804  0.401680  0.480966  0.420202 -0.319716  \n",
       "9999  0.528878  0.556020  0.353738  0.268734  0.482636  0.422627  0.521744  \n",
       "\n",
       "[10000 rows x 29 columns]"
      ]
     },
     "execution_count": 12,
     "metadata": {},
     "output_type": "execute_result"
    }
   ],
   "source": [
    "# Concat V1...V28 dataframe with 'amount' dataframe\n",
    "frames = [scaled_X, scaled_amount_df]\n",
    "scaled_X = pd.concat(frames, axis=1)\n",
    "scaled_X"
   ]
  },
  {
   "cell_type": "markdown",
   "metadata": {
    "id": "K2MczkQ6eW_1"
   },
   "source": [
    "**Question 4:** What percentage of transactions in the dataset are fraudulent using the `Class` feature?"
   ]
  },
  {
   "cell_type": "code",
   "execution_count": 13,
   "metadata": {
    "ExecuteTime": {
     "end_time": "2023-02-15T17:07:54.864272Z",
     "start_time": "2023-02-15T17:07:54.838279Z"
    }
   },
   "outputs": [
    {
     "data": {
      "text/plain": [
       "0.0038"
      ]
     },
     "execution_count": 13,
     "metadata": {},
     "output_type": "execute_result"
    }
   ],
   "source": [
    "fraudulent_transactions_ratio = (y == 1).mean()\n",
    "fraudulent_transactions_ratio"
   ]
  },
  {
   "cell_type": "code",
   "execution_count": 14,
   "metadata": {
    "ExecuteTime": {
     "end_time": "2023-02-15T17:07:54.879282Z",
     "start_time": "2023-02-15T17:07:54.868277Z"
    }
   },
   "outputs": [
    {
     "name": "stdout",
     "output_type": "stream",
     "text": [
      "Fraudulent Transaction Percentage = 0.38%\n"
     ]
    }
   ],
   "source": [
    "print(f'Fraudulent Transaction Percentage = {fraudulent_transactions_ratio*100:.2f}%')"
   ]
  },
  {
   "cell_type": "markdown",
   "metadata": {
    "id": "HVllIQdKeW_2"
   },
   "source": [
    "**Question 5:**\n",
    "\n",
    "Use `sklearn.neighbors.LocalOutlierFactor` with default parameters to detect outliers in transaction details.  How many transactions and what percentage of transactions are called fraudulent (outliers) with default parameters of LocalOutlierFactor?"
   ]
  },
  {
   "cell_type": "code",
   "execution_count": 15,
   "metadata": {
    "ExecuteTime": {
     "end_time": "2023-02-15T17:07:55.482274Z",
     "start_time": "2023-02-15T17:07:54.884275Z"
    },
    "id": "F9wYYWrbeW_2"
   },
   "outputs": [],
   "source": [
    "# LOF\n",
    "lof = LocalOutlierFactor()\n",
    "outlier_scores = lof.fit_predict(scaled_X)"
   ]
  },
  {
   "cell_type": "code",
   "execution_count": 16,
   "metadata": {
    "ExecuteTime": {
     "end_time": "2023-02-15T17:07:55.498279Z",
     "start_time": "2023-02-15T17:07:55.487292Z"
    }
   },
   "outputs": [
    {
     "name": "stdout",
     "output_type": "stream",
     "text": [
      "Number of Outliers = 480\n"
     ]
    }
   ],
   "source": [
    "outliers = (outlier_scores == -1)\n",
    "print(f'Number of Outliers = {outliers.sum()}')"
   ]
  },
  {
   "cell_type": "code",
   "execution_count": 17,
   "metadata": {
    "ExecuteTime": {
     "end_time": "2023-02-15T17:07:55.514280Z",
     "start_time": "2023-02-15T17:07:55.502275Z"
    }
   },
   "outputs": [
    {
     "name": "stdout",
     "output_type": "stream",
     "text": [
      "Fraudulent Transaction Percentage - with LOF (default) = 4.80%\n"
     ]
    }
   ],
   "source": [
    "inliers = (outlier_scores == 1)\n",
    "outliers_ratio = outliers.sum() / len(outlier_scores)\n",
    "print(f'Fraudulent Transaction Percentage - with LOF (default) = {outliers_ratio*100:.2f}%')"
   ]
  },
  {
   "cell_type": "markdown",
   "metadata": {
    "id": "BAQ2-GE_eW_3"
   },
   "source": [
    "**Question 6:**\n",
    "\n",
    "- Use `sklearn.metrics.confusion_matrix` and `sklearn.metrics.classification_report` to compare the results from unsupervised anomaly detection with LOF of previous question with the target labels. \n",
    "- Is the output of LOF with default parameters better than randomly selecting same number of transactions as were chosen by LOF in previous question? Why or why not? (Hint: if we would randomly select X% of observations as outliers, what percentage of real outliers would be chosen?)"
   ]
  },
  {
   "cell_type": "code",
   "execution_count": 18,
   "metadata": {
    "ExecuteTime": {
     "end_time": "2023-02-15T17:07:55.530280Z",
     "start_time": "2023-02-15T17:07:55.520280Z"
    }
   },
   "outputs": [],
   "source": [
    "y_true = y.values\n",
    "y_pred = outlier_scores"
   ]
  },
  {
   "cell_type": "code",
   "execution_count": 19,
   "metadata": {
    "ExecuteTime": {
     "end_time": "2023-02-15T17:07:55.545283Z",
     "start_time": "2023-02-15T17:07:55.534277Z"
    }
   },
   "outputs": [
    {
     "data": {
      "text/plain": [
       "9962"
      ]
     },
     "execution_count": 19,
     "metadata": {},
     "output_type": "execute_result"
    }
   ],
   "source": [
    "(y_true == 0).sum()"
   ]
  },
  {
   "cell_type": "code",
   "execution_count": 20,
   "metadata": {
    "ExecuteTime": {
     "end_time": "2023-02-15T17:07:55.561275Z",
     "start_time": "2023-02-15T17:07:55.549281Z"
    }
   },
   "outputs": [
    {
     "data": {
      "text/plain": [
       "(0, -1)"
      ]
     },
     "execution_count": 20,
     "metadata": {},
     "output_type": "execute_result"
    }
   ],
   "source": [
    "y_true.min(), y_pred.min()"
   ]
  },
  {
   "cell_type": "code",
   "execution_count": 21,
   "metadata": {
    "ExecuteTime": {
     "end_time": "2023-02-15T17:07:55.577277Z",
     "start_time": "2023-02-15T17:07:55.565275Z"
    },
    "id": "4IhtV0MQeW_3"
   },
   "outputs": [],
   "source": [
    "y_pred[y_pred ==  1] = 0\n",
    "y_pred[y_pred == -1] = 1"
   ]
  },
  {
   "cell_type": "code",
   "execution_count": 22,
   "metadata": {
    "ExecuteTime": {
     "end_time": "2023-02-15T17:07:55.608275Z",
     "start_time": "2023-02-15T17:07:55.583277Z"
    }
   },
   "outputs": [
    {
     "data": {
      "text/plain": [
       "(array([], dtype=int32), array([0, 0, 0, ..., 0, 0, 0]))"
      ]
     },
     "execution_count": 22,
     "metadata": {},
     "output_type": "execute_result"
    }
   ],
   "source": [
    "# Check\n",
    "y_pred[y_pred < 0], y_pred[y_pred == 0]"
   ]
  },
  {
   "cell_type": "code",
   "execution_count": 23,
   "metadata": {
    "ExecuteTime": {
     "end_time": "2023-02-15T17:07:55.624277Z",
     "start_time": "2023-02-15T17:07:55.611278Z"
    }
   },
   "outputs": [
    {
     "data": {
      "text/plain": [
       "480"
      ]
     },
     "execution_count": 23,
     "metadata": {},
     "output_type": "execute_result"
    }
   ],
   "source": [
    "# Check\n",
    "(y_pred == 1).sum()"
   ]
  },
  {
   "cell_type": "code",
   "execution_count": 24,
   "metadata": {
    "ExecuteTime": {
     "end_time": "2023-02-15T17:07:55.656274Z",
     "start_time": "2023-02-15T17:07:55.628276Z"
    }
   },
   "outputs": [
    {
     "data": {
      "text/plain": [
       "38"
      ]
     },
     "execution_count": 24,
     "metadata": {},
     "output_type": "execute_result"
    }
   ],
   "source": [
    "# Check\n",
    "(y_true == 1).sum()"
   ]
  },
  {
   "cell_type": "code",
   "execution_count": 25,
   "metadata": {
    "ExecuteTime": {
     "end_time": "2023-02-15T17:07:55.687275Z",
     "start_time": "2023-02-15T17:07:55.660276Z"
    }
   },
   "outputs": [
    {
     "data": {
      "text/plain": [
       "array([[9487,  475],\n",
       "       [  33,    5]], dtype=int64)"
      ]
     },
     "execution_count": 25,
     "metadata": {},
     "output_type": "execute_result"
    }
   ],
   "source": [
    "confusion_matrix(y_true, y_pred)"
   ]
  },
  {
   "cell_type": "code",
   "execution_count": 26,
   "metadata": {
    "ExecuteTime": {
     "end_time": "2023-02-15T17:07:55.703276Z",
     "start_time": "2023-02-15T17:07:55.691284Z"
    }
   },
   "outputs": [
    {
     "data": {
      "text/plain": [
       "(9487, 475, 33, 5)"
      ]
     },
     "execution_count": 26,
     "metadata": {},
     "output_type": "execute_result"
    }
   ],
   "source": [
    "tn, fp, fn, tp = confusion_matrix(y_true, y_pred).ravel()\n",
    "tn, fp, fn, tp"
   ]
  },
  {
   "cell_type": "code",
   "execution_count": 27,
   "metadata": {
    "ExecuteTime": {
     "end_time": "2023-02-15T17:07:55.751274Z",
     "start_time": "2023-02-15T17:07:55.707278Z"
    }
   },
   "outputs": [
    {
     "name": "stdout",
     "output_type": "stream",
     "text": [
      "              precision    recall  f1-score   support\n",
      "\n",
      "           0       1.00      0.95      0.97      9962\n",
      "           1       0.01      0.13      0.02        38\n",
      "\n",
      "    accuracy                           0.95     10000\n",
      "   macro avg       0.50      0.54      0.50     10000\n",
      "weighted avg       0.99      0.95      0.97     10000\n",
      "\n"
     ]
    }
   ],
   "source": [
    "print(classification_report(y_true, y_pred))"
   ]
  },
  {
   "cell_type": "code",
   "execution_count": 28,
   "metadata": {
    "ExecuteTime": {
     "end_time": "2023-02-15T17:07:55.783275Z",
     "start_time": "2023-02-15T17:07:55.767276Z"
    }
   },
   "outputs": [
    {
     "name": "stdout",
     "output_type": "stream",
     "text": [
      "Fraudulent Transaction Percentage - with LOF (default) = 1.04%\n"
     ]
    }
   ],
   "source": [
    "print(f'Fraudulent Transaction Percentage - with LOF (default) = {(tp/(y_pred == 1).sum())*100:.2f}%')"
   ]
  },
  {
   "cell_type": "markdown",
   "metadata": {},
   "source": [
    "With LOF we get 1.04% of the predicted fraudulent transactions versus 0.38%  from randomly selecting them. It is a better result but, ideally, we would expect to do much better than this."
   ]
  },
  {
   "cell_type": "markdown",
   "metadata": {
    "id": "s4OFD3lWeW_4"
   },
   "source": [
    "**Question 7:**\n",
    "\n",
    "`contamination` parameter of `LocalOutlierFactor` allows us to set what percent of total observations we would like our LOF model to flag as an outlier.  Let's see how the `contamination` parameter affects the results of LOF:\n",
    "  - Try passing different valid values to the parameter `contamination` of LocalOutlierFactor on full valid range of `contamination` of (0.0, 0.5].\n",
    "  - Plot the `contamination` parameter on the X axis and both `precision` and `recall` on the Y axis of the same graph.\n",
    "  - How does the `contamination` parameter affect the precision and recall of LOF?"
   ]
  },
  {
   "cell_type": "code",
   "execution_count": 29,
   "metadata": {
    "ExecuteTime": {
     "end_time": "2023-02-15T17:07:57.995273Z",
     "start_time": "2023-02-15T17:07:55.786278Z"
    },
    "id": "_QqXIpaJeW_4"
   },
   "outputs": [],
   "source": [
    "contamination_list = [0.1, 0.2, 0.3, 0.4, 0.5] \n",
    "recall_list_lof = []\n",
    "precision_list_lof = []\n",
    "\n",
    "for contamination in contamination_list:\n",
    "    lof = LocalOutlierFactor(contamination=contamination)\n",
    "    y_pred = lof.fit_predict(scaled_X)\n",
    "    \n",
    "    # Transform y_pred so it matches y_true\n",
    "    y_pred[y_pred ==  1] = 0\n",
    "    y_pred[y_pred == -1] = 1\n",
    "\n",
    "    precision_list_lof.append(precision_score(y_true, y_pred))\n",
    "    recall_list_lof.append(recall_score(y_true, y_pred))"
   ]
  },
  {
   "cell_type": "code",
   "execution_count": 30,
   "metadata": {
    "ExecuteTime": {
     "end_time": "2023-02-15T17:07:58.328277Z",
     "start_time": "2023-02-15T17:07:57.999277Z"
    }
   },
   "outputs": [
    {
     "data": {
      "image/png": "[encoded data removed]",
      "text/plain": [
       "<Figure size 640x480 with 1 Axes>"
      ]
     },
     "metadata": {},
     "output_type": "display_data"
    }
   ],
   "source": [
    "fig, ax = plt.subplots()\n",
    "ax.plot(contamination_list, precision_list_lof, label='Precision')\n",
    "ax.plot(contamination_list, recall_list_lof, label='Recall')\n",
    "ax.legend()\n",
    "plt.xticks(contamination_list)\n",
    "ax.set_xlabel('Contamination')\n",
    "ax.set_ylabel('Precision, Recall')\n",
    "plt.show()"
   ]
  },
  {
   "cell_type": "markdown",
   "metadata": {},
   "source": [
    "The Recall value increases with `contamination` as the more values we assign to be outliers the more we are going to find that are actually outliers. At the same time, Precision decreases because we will have more false positives.\n",
    "\n",
    "In a real world scenario we would need more information about the cost of flagging a transaction as fraudulent to better determine the optimal point between Recall and Precision."
   ]
  },
  {
   "cell_type": "markdown",
   "metadata": {
    "id": "s4OFD3lWeW_4"
   },
   "source": [
    "**Question 8:**\n",
    "\n",
    "Although the valid range of `contamination` parameter is (0.0, 0.5] so we can flag up to half of observations as outliers, it usually doesn't make sense to flag half the observations as outliers, since outliers are very rare.  Based on your answer in question 4 that shows that in this case, the fraudulent transactions are indeed rare, let's check `contimation` only up to 0.1 (we will flag maximum 10% of transactions as fraudulent).\n",
    "  - Try passing different values to the parameter `contamination` of LocalOutlierFactor in range (0.0, 0.1].\n",
    "  - Plot the `contamination` parameter on the X axis and both `precision` and `recall` on the Y axis of the same graph.\n",
    "  - Plot on the same graph a vertical line for contamination (% of transactions flagged as fraudulent) that was found by LocalOutlierFactor with default parameters (question 5).\n",
    "  - Would you say that the `contamination` chosen by default is a good choice?\n",
    "  - If you would go with a higher `contamination` value, what value would you choose and why?\n",
    "  - If you would go with a lower `contamination` value, what value would you choose and why?"
   ]
  },
  {
   "cell_type": "code",
   "execution_count": 31,
   "metadata": {
    "ExecuteTime": {
     "end_time": "2023-02-15T17:08:04.563322Z",
     "start_time": "2023-02-15T17:07:58.332276Z"
    },
    "id": "_QqXIpaJeW_4"
   },
   "outputs": [],
   "source": [
    "contamination_list = np.arange(0.01, 0.11, 0.01)\n",
    "recall_list_lof = []\n",
    "precision_list_lof = []\n",
    "\n",
    "for contamination in contamination_list:\n",
    "    lof = LocalOutlierFactor(contamination=contamination)\n",
    "    y_pred = lof.fit_predict(scaled_X)\n",
    "    \n",
    "    # Transform y_pred so it matches y_true\n",
    "    y_pred[y_pred ==  1] = 0\n",
    "    y_pred[y_pred == -1] = 1\n",
    "\n",
    "    precision_list_lof.append(precision_score(y_true, y_pred))\n",
    "    recall_list_lof.append(recall_score(y_true, y_pred))"
   ]
  },
  {
   "cell_type": "code",
   "execution_count": 32,
   "metadata": {
    "ExecuteTime": {
     "end_time": "2023-02-15T17:08:05.447324Z",
     "start_time": "2023-02-15T17:08:04.569329Z"
    }
   },
   "outputs": [
    {
     "data": {
      "image/png": "[encoded data removed]",
      "text/plain": [
       "<Figure size 640x480 with 1 Axes>"
      ]
     },
     "metadata": {},
     "output_type": "display_data"
    }
   ],
   "source": [
    "# PLots\n",
    "fig, ax = plt.subplots()\n",
    "ax.plot(contamination_list, precision_list_lof, label='Precision')\n",
    "ax.plot(contamination_list, recall_list_lof, label='Recall')\n",
    "ax.axvline(outliers_ratio, color='k', linestyle='--')\n",
    "\n",
    "# Details\n",
    "ax.legend()\n",
    "plt.xticks(contamination_list)\n",
    "ax.set_xlabel('Contamination')\n",
    "ax.set_ylabel('Precision, Recall')\n",
    "\n",
    "# Text\n",
    "# FancyArrowPatch\n",
    "plt.annotate(f'Contamination (default) \\n= {outliers_ratio}',\n",
    "             xy=(outliers_ratio, 0.3), \n",
    "             xytext=(outliers_ratio-0.005, 0.28),\n",
    "             arrowprops={'arrowstyle':'->', 'connectionstyle':'arc3,rad=0.2'},\n",
    "             horizontalalignment='right')\n",
    "\n",
    "plt.show()"
   ]
  },
  {
   "cell_type": "markdown",
   "metadata": {},
   "source": [
    "As can be seen from the graph the contamination chosen does not maximize Recall, so choosing this value can result in fraudulent cases not being detected. Optimizing for Recall we have that at contamination = 0.08 the Recall curve stabilizes, thus I would choose this value."
   ]
  },
  {
   "cell_type": "markdown",
   "metadata": {
    "id": "U1gxhlXOeW_5"
   },
   "source": [
    "**Question 9:** Repeat questions 5-8 using `sklearn.ensemble.IsolationForest`."
   ]
  },
  {
   "cell_type": "markdown",
   "metadata": {},
   "source": [
    "**Q5**"
   ]
  },
  {
   "cell_type": "code",
   "execution_count": 33,
   "metadata": {
    "ExecuteTime": {
     "end_time": "2023-02-15T17:09:21.916457Z",
     "start_time": "2023-02-15T17:09:20.811460Z"
    },
    "id": "F9wYYWrbeW_2"
   },
   "outputs": [],
   "source": [
    "# IF\n",
    "random_state = 765\n",
    "iso_forest = IsolationForest(random_state=random_state)\n",
    "outlier_scores_if = iso_forest.fit_predict(scaled_X)"
   ]
  },
  {
   "cell_type": "code",
   "execution_count": 34,
   "metadata": {
    "ExecuteTime": {
     "end_time": "2023-02-15T17:09:26.619861Z",
     "start_time": "2023-02-15T17:09:26.608517Z"
    }
   },
   "outputs": [
    {
     "name": "stdout",
     "output_type": "stream",
     "text": [
      "Number of Outliers - IF = 382\n"
     ]
    }
   ],
   "source": [
    "outliers_if = (outlier_scores_if == -1)\n",
    "print(f'Number of Outliers - IF = {outliers_if.sum()}')"
   ]
  },
  {
   "cell_type": "code",
   "execution_count": 35,
   "metadata": {
    "ExecuteTime": {
     "end_time": "2023-02-15T17:09:31.299525Z",
     "start_time": "2023-02-15T17:09:31.278518Z"
    }
   },
   "outputs": [
    {
     "name": "stdout",
     "output_type": "stream",
     "text": [
      "Fraudulent Transaction Percentage - with IF = 3.82%\n"
     ]
    }
   ],
   "source": [
    "inliers_if = (outlier_scores_if == 1)\n",
    "outliers_ratio_if = outliers_if.sum() / len(outlier_scores_if)\n",
    "print(f'Fraudulent Transaction Percentage - with IF = {outliers_ratio_if*100:.2f}%')"
   ]
  },
  {
   "cell_type": "markdown",
   "metadata": {},
   "source": [
    "**Q6**"
   ]
  },
  {
   "cell_type": "code",
   "execution_count": 36,
   "metadata": {
    "ExecuteTime": {
     "end_time": "2023-02-15T17:09:34.971381Z",
     "start_time": "2023-02-15T17:09:34.960386Z"
    }
   },
   "outputs": [],
   "source": [
    "y_true = y.values\n",
    "y_pred_if = outlier_scores_if"
   ]
  },
  {
   "cell_type": "code",
   "execution_count": 37,
   "metadata": {
    "ExecuteTime": {
     "end_time": "2023-02-15T17:09:38.290903Z",
     "start_time": "2023-02-15T17:09:38.277840Z"
    }
   },
   "outputs": [
    {
     "data": {
      "text/plain": [
       "9962"
      ]
     },
     "execution_count": 37,
     "metadata": {},
     "output_type": "execute_result"
    }
   ],
   "source": [
    "(y_true == 0).sum()"
   ]
  },
  {
   "cell_type": "code",
   "execution_count": 38,
   "metadata": {
    "ExecuteTime": {
     "end_time": "2023-02-15T17:09:42.661914Z",
     "start_time": "2023-02-15T17:09:42.650915Z"
    }
   },
   "outputs": [
    {
     "data": {
      "text/plain": [
       "(0, -1)"
      ]
     },
     "execution_count": 38,
     "metadata": {},
     "output_type": "execute_result"
    }
   ],
   "source": [
    "y_true.min(), y_pred_if.min()"
   ]
  },
  {
   "cell_type": "code",
   "execution_count": 39,
   "metadata": {
    "ExecuteTime": {
     "end_time": "2023-02-15T17:09:47.236290Z",
     "start_time": "2023-02-15T17:09:47.223991Z"
    },
    "id": "4IhtV0MQeW_3"
   },
   "outputs": [],
   "source": [
    "y_pred_if[y_pred_if ==  1] = 0\n",
    "y_pred_if[y_pred_if == -1] = 1"
   ]
  },
  {
   "cell_type": "code",
   "execution_count": 40,
   "metadata": {
    "ExecuteTime": {
     "end_time": "2023-02-15T17:09:50.363618Z",
     "start_time": "2023-02-15T17:09:50.351617Z"
    }
   },
   "outputs": [
    {
     "data": {
      "text/plain": [
       "(array([], dtype=int32), array([0, 0, 0, ..., 0, 0, 0]))"
      ]
     },
     "execution_count": 40,
     "metadata": {},
     "output_type": "execute_result"
    }
   ],
   "source": [
    "# Check\n",
    "y_pred_if[y_pred_if < 0], y_pred_if[y_pred_if == 0]"
   ]
  },
  {
   "cell_type": "code",
   "execution_count": 41,
   "metadata": {
    "ExecuteTime": {
     "end_time": "2023-02-15T17:09:53.852220Z",
     "start_time": "2023-02-15T17:09:53.840188Z"
    }
   },
   "outputs": [
    {
     "data": {
      "text/plain": [
       "382"
      ]
     },
     "execution_count": 41,
     "metadata": {},
     "output_type": "execute_result"
    }
   ],
   "source": [
    "# Check\n",
    "(y_pred_if == 1).sum()"
   ]
  },
  {
   "cell_type": "code",
   "execution_count": 42,
   "metadata": {
    "ExecuteTime": {
     "end_time": "2023-02-15T17:09:57.742069Z",
     "start_time": "2023-02-15T17:09:57.731068Z"
    }
   },
   "outputs": [
    {
     "data": {
      "text/plain": [
       "38"
      ]
     },
     "execution_count": 42,
     "metadata": {},
     "output_type": "execute_result"
    }
   ],
   "source": [
    "# Check\n",
    "(y_true == 1).sum()"
   ]
  },
  {
   "cell_type": "code",
   "execution_count": 43,
   "metadata": {
    "ExecuteTime": {
     "end_time": "2023-02-15T17:10:02.144231Z",
     "start_time": "2023-02-15T17:10:02.116235Z"
    }
   },
   "outputs": [
    {
     "data": {
      "text/plain": [
       "array([[9617,  345],\n",
       "       [   1,   37]], dtype=int64)"
      ]
     },
     "execution_count": 43,
     "metadata": {},
     "output_type": "execute_result"
    }
   ],
   "source": [
    "confusion_matrix(y_true, y_pred_if)"
   ]
  },
  {
   "cell_type": "code",
   "execution_count": 44,
   "metadata": {
    "ExecuteTime": {
     "end_time": "2023-02-15T17:10:05.421672Z",
     "start_time": "2023-02-15T17:10:05.409648Z"
    }
   },
   "outputs": [
    {
     "data": {
      "text/plain": [
       "(9617, 345, 1, 37)"
      ]
     },
     "execution_count": 44,
     "metadata": {},
     "output_type": "execute_result"
    }
   ],
   "source": [
    "tn, fp, fn, tp = confusion_matrix(y_true, y_pred_if).ravel()\n",
    "tn, fp, fn, tp"
   ]
  },
  {
   "cell_type": "code",
   "execution_count": 45,
   "metadata": {
    "ExecuteTime": {
     "end_time": "2023-02-15T17:10:08.625414Z",
     "start_time": "2023-02-15T17:10:08.582421Z"
    }
   },
   "outputs": [
    {
     "name": "stdout",
     "output_type": "stream",
     "text": [
      "              precision    recall  f1-score   support\n",
      "\n",
      "           0       1.00      0.97      0.98      9962\n",
      "           1       0.10      0.97      0.18        38\n",
      "\n",
      "    accuracy                           0.97     10000\n",
      "   macro avg       0.55      0.97      0.58     10000\n",
      "weighted avg       1.00      0.97      0.98     10000\n",
      "\n"
     ]
    }
   ],
   "source": [
    "print(classification_report(y_true, y_pred_if))"
   ]
  },
  {
   "cell_type": "code",
   "execution_count": 46,
   "metadata": {
    "ExecuteTime": {
     "end_time": "2023-02-15T17:10:12.487412Z",
     "start_time": "2023-02-15T17:10:12.476411Z"
    }
   },
   "outputs": [
    {
     "name": "stdout",
     "output_type": "stream",
     "text": [
      "Fraudulent Transaction Percentage - with IF (default) = 9.69%\n"
     ]
    }
   ],
   "source": [
    "print(f'Fraudulent Transaction Percentage - with IF (default) = {(tp/(y_pred_if == 1).sum())*100:.2f}%')"
   ]
  },
  {
   "cell_type": "markdown",
   "metadata": {},
   "source": [
    "With IF we get `9.69%` of the predicted fraudulent transactions versus `0.38%`  from randomly selecting them and `1.04%` with LOF. It is a much better result."
   ]
  },
  {
   "cell_type": "markdown",
   "metadata": {},
   "source": [
    "**Q7**"
   ]
  },
  {
   "cell_type": "code",
   "execution_count": 47,
   "metadata": {
    "ExecuteTime": {
     "end_time": "2023-02-15T17:10:28.213928Z",
     "start_time": "2023-02-15T17:10:23.711218Z"
    },
    "id": "_QqXIpaJeW_4"
   },
   "outputs": [
    {
     "name": "stderr",
     "output_type": "stream",
     "text": [
      "C:\\Users\\Andreas\\AppData\\Roaming\\Python\\Python39\\site-packages\\sklearn\\base.py:409: UserWarning: X does not have valid feature names, but IsolationForest was fitted with feature names\n",
      "  warnings.warn(\n",
      "C:\\Users\\Andreas\\AppData\\Roaming\\Python\\Python39\\site-packages\\sklearn\\base.py:409: UserWarning: X does not have valid feature names, but IsolationForest was fitted with feature names\n",
      "  warnings.warn(\n",
      "C:\\Users\\Andreas\\AppData\\Roaming\\Python\\Python39\\site-packages\\sklearn\\base.py:409: UserWarning: X does not have valid feature names, but IsolationForest was fitted with feature names\n",
      "  warnings.warn(\n",
      "C:\\Users\\Andreas\\AppData\\Roaming\\Python\\Python39\\site-packages\\sklearn\\base.py:409: UserWarning: X does not have valid feature names, but IsolationForest was fitted with feature names\n",
      "  warnings.warn(\n"
     ]
    }
   ],
   "source": [
    "contamination_list = np.arange(0.1, 0.5, 0.1) \n",
    "recall_list_if = []\n",
    "precision_list_if = []\n",
    "\n",
    "for contamination in contamination_list:\n",
    "    iso_forest = IsolationForest(contamination=contamination, random_state=random_state)\n",
    "    y_pred = iso_forest.fit_predict(scaled_X)\n",
    "    \n",
    "    # Transform y_pred so it matches y_true\n",
    "    y_pred[y_pred ==  1] = 0\n",
    "    y_pred[y_pred == -1] = 1\n",
    "\n",
    "    precision_list_if.append(precision_score(y_true, y_pred))\n",
    "    recall_list_if.append(recall_score(y_true, y_pred))"
   ]
  },
  {
   "cell_type": "code",
   "execution_count": 48,
   "metadata": {
    "ExecuteTime": {
     "end_time": "2023-02-15T17:10:33.533092Z",
     "start_time": "2023-02-15T17:10:33.249533Z"
    }
   },
   "outputs": [
    {
     "data": {
      "image/png": "[encoded data removed]",
      "text/plain": [
       "<Figure size 640x480 with 1 Axes>"
      ]
     },
     "metadata": {},
     "output_type": "display_data"
    }
   ],
   "source": [
    "fig, ax = plt.subplots()\n",
    "ax.plot(contamination_list, precision_list_if, label='Precision')\n",
    "ax.plot(contamination_list, recall_list_if, label='Recall')\n",
    "ax.legend()\n",
    "plt.xticks(contamination_list)\n",
    "ax.set_xlabel('Contamination')\n",
    "ax.set_ylabel('Precision, Recall')\n",
    "plt.title('Precison, Recall vs. Contamination (0, 0.5] - Isolation Forest')\n",
    "plt.show()"
   ]
  },
  {
   "cell_type": "markdown",
   "metadata": {},
   "source": [
    "The Recall has a value of 1 for all the contamination levels. This suggests that we should look at what happens before contamination = 0.1 more in depth."
   ]
  },
  {
   "cell_type": "markdown",
   "metadata": {},
   "source": [
    "**Q8**"
   ]
  },
  {
   "cell_type": "code",
   "execution_count": 49,
   "metadata": {
    "ExecuteTime": {
     "end_time": "2023-02-15T17:10:52.507407Z",
     "start_time": "2023-02-15T17:10:41.110697Z"
    },
    "id": "_QqXIpaJeW_4"
   },
   "outputs": [
    {
     "name": "stderr",
     "output_type": "stream",
     "text": [
      "C:\\Users\\Andreas\\AppData\\Roaming\\Python\\Python39\\site-packages\\sklearn\\base.py:409: UserWarning: X does not have valid feature names, but IsolationForest was fitted with feature names\n",
      "  warnings.warn(\n",
      "C:\\Users\\Andreas\\AppData\\Roaming\\Python\\Python39\\site-packages\\sklearn\\base.py:409: UserWarning: X does not have valid feature names, but IsolationForest was fitted with feature names\n",
      "  warnings.warn(\n",
      "C:\\Users\\Andreas\\AppData\\Roaming\\Python\\Python39\\site-packages\\sklearn\\base.py:409: UserWarning: X does not have valid feature names, but IsolationForest was fitted with feature names\n",
      "  warnings.warn(\n",
      "C:\\Users\\Andreas\\AppData\\Roaming\\Python\\Python39\\site-packages\\sklearn\\base.py:409: UserWarning: X does not have valid feature names, but IsolationForest was fitted with feature names\n",
      "  warnings.warn(\n",
      "C:\\Users\\Andreas\\AppData\\Roaming\\Python\\Python39\\site-packages\\sklearn\\base.py:409: UserWarning: X does not have valid feature names, but IsolationForest was fitted with feature names\n",
      "  warnings.warn(\n",
      "C:\\Users\\Andreas\\AppData\\Roaming\\Python\\Python39\\site-packages\\sklearn\\base.py:409: UserWarning: X does not have valid feature names, but IsolationForest was fitted with feature names\n",
      "  warnings.warn(\n",
      "C:\\Users\\Andreas\\AppData\\Roaming\\Python\\Python39\\site-packages\\sklearn\\base.py:409: UserWarning: X does not have valid feature names, but IsolationForest was fitted with feature names\n",
      "  warnings.warn(\n",
      "C:\\Users\\Andreas\\AppData\\Roaming\\Python\\Python39\\site-packages\\sklearn\\base.py:409: UserWarning: X does not have valid feature names, but IsolationForest was fitted with feature names\n",
      "  warnings.warn(\n",
      "C:\\Users\\Andreas\\AppData\\Roaming\\Python\\Python39\\site-packages\\sklearn\\base.py:409: UserWarning: X does not have valid feature names, but IsolationForest was fitted with feature names\n",
      "  warnings.warn(\n",
      "C:\\Users\\Andreas\\AppData\\Roaming\\Python\\Python39\\site-packages\\sklearn\\base.py:409: UserWarning: X does not have valid feature names, but IsolationForest was fitted with feature names\n",
      "  warnings.warn(\n"
     ]
    }
   ],
   "source": [
    "contamination_list = np.arange(0.01, 0.11, 0.01)\n",
    "recall_list_if = []\n",
    "precision_list_if = []\n",
    "\n",
    "for contamination in contamination_list:\n",
    "    iso_forest = IsolationForest(contamination=contamination, random_state=random_state)\n",
    "    y_pred = iso_forest.fit_predict(scaled_X)\n",
    "    \n",
    "    # Transform y_pred so it matches y_true\n",
    "    y_pred[y_pred ==  1] = 0\n",
    "    y_pred[y_pred == -1] = 1\n",
    "\n",
    "    precision_list_if.append(precision_score(y_true, y_pred))\n",
    "    recall_list_if.append(recall_score(y_true, y_pred))"
   ]
  },
  {
   "cell_type": "code",
   "execution_count": 50,
   "metadata": {
    "ExecuteTime": {
     "end_time": "2023-02-15T17:10:56.287571Z",
     "start_time": "2023-02-15T17:10:55.939062Z"
    }
   },
   "outputs": [
    {
     "data": {
      "image/png": "[encoded data removed]",
      "text/plain": [
       "<Figure size 640x480 with 1 Axes>"
      ]
     },
     "metadata": {},
     "output_type": "display_data"
    }
   ],
   "source": [
    "# PLots\n",
    "fig, ax = plt.subplots()\n",
    "ax.plot(contamination_list, precision_list_if, label='Precision')\n",
    "ax.plot(contamination_list, recall_list_if, label='Recall')\n",
    "ax.axvline(outliers_ratio_if, color='k', linestyle='--')\n",
    "\n",
    "# Details\n",
    "ax.legend()\n",
    "plt.xticks(contamination_list)\n",
    "ax.set_xlabel('Contamination')\n",
    "ax.set_ylabel('Precision, Recall')\n",
    "\n",
    "# Text\n",
    "# FancyArrowPatch\n",
    "plt.annotate(f'Contamination = {outliers_ratio_if:.3f}',\n",
    "             xy=(outliers_ratio_if, 0.3), \n",
    "             xytext=(outliers_ratio_if+0.005, 0.3),\n",
    "             arrowprops={'arrowstyle':'->', 'connectionstyle':'arc3,rad=-0.2'},\n",
    "             horizontalalignment='left')\n",
    "\n",
    "plt.title('Precison, Recall vs Contamination (0, 0.5] - Isolation Forest')\n",
    "\n",
    "plt.show()"
   ]
  },
  {
   "cell_type": "markdown",
   "metadata": {},
   "source": [
    "As can be seen from the graph the Recall value quickly rises to values close to 1. The opposite effect happens with the Precision, as it decreases its level in a smoother way. The default value does a decent job although we can do better if the primary purpose would be to optimize Recall. Again, this depends on the business costs."
   ]
  },
  {
   "cell_type": "markdown",
   "metadata": {},
   "source": [
    "**Question 10:** \n",
    "- Plot contamination, precision and recall both for LOF and IF on the same graph for contaminations in range (0, 0.1].  **Tip:** use different colors for precision and recall, and different line styles to differentiate between LOF and IF.\n",
    "- What algorithm gives us consistently better results?\n",
    "- What algorithm and what contamination value would you choose and why? If you are not sure, give a few options."
   ]
  },
  {
   "cell_type": "code",
   "execution_count": 51,
   "metadata": {
    "ExecuteTime": {
     "end_time": "2023-02-15T17:11:23.884931Z",
     "start_time": "2023-02-15T17:11:23.632934Z"
    }
   },
   "outputs": [
    {
     "data": {
      "image/png": "[encoded data removed]",
      "text/plain": [
       "<Figure size 640x480 with 1 Axes>"
      ]
     },
     "metadata": {},
     "output_type": "display_data"
    }
   ],
   "source": [
    "fig, ax = plt.subplots()\n",
    "\n",
    "ax.plot(contamination_list, precision_list_lof, c='blue',    linestyle='solid' , label='Precision - LOF')\n",
    "ax.plot(contamination_list, recall_list_lof,    c='orange',  linestyle='solid', label='Recall - LOF')\n",
    "ax.plot(contamination_list, precision_list_if,  c='blue',    linestyle='dotted',  label='Precision - IF')\n",
    "ax.plot(contamination_list, recall_list_if,     c='orange',  linestyle='dotted',  label='Recall - IF')\n",
    "\n",
    "ax.axvline(0.04, color='k', linestyle='--')\n",
    "\n",
    "plt.annotate(f'Contamination = 0.04',\n",
    "             xy=(0.04, 0.43), \n",
    "             xytext=(0.04+0.005, 0.45),\n",
    "             arrowprops={'arrowstyle':'->', 'connectionstyle':'arc3,rad=-0.15'},\n",
    "             horizontalalignment='left')\n",
    "\n",
    "plt.legend(loc=(0.65,0.65))\n",
    "ax.set_xlabel('Contamination')\n",
    "ax.set_ylabel('Precision, Recall')\n",
    "\n",
    "plt.show()"
   ]
  },
  {
   "cell_type": "markdown",
   "metadata": {},
   "source": [
    "From the graph we can see the better performance of the IF algorithm in terms of Recall and Precision. It also gives us less variability in terms of Recall.\n",
    "\n",
    "The ideal value would optimize Recall for IF, that is, `contamination = 0.04`. This gives us the best Recall and a decent Precision."
   ]
  }
 ],
 "metadata": {
  "colab": {
   "collapsed_sections": [],
   "name": "Anomaly Detection exercise.ipynb",
   "provenance": [],
   "toc_visible": true
  },
  "kernelspec": {
   "display_name": "Python 3 (ipykernel)",
   "language": "python",
   "name": "python3"
  },
  "language_info": {
   "codemirror_mode": {
    "name": "ipython",
    "version": 3
   },
   "file_extension": ".py",
   "mimetype": "text/x-python",
   "name": "python",
   "nbconvert_exporter": "python",
   "pygments_lexer": "ipython3",
   "version": "3.9.12"
  },
  "toc": {
   "base_numbering": 1,
   "nav_menu": {},
   "number_sections": true,
   "sideBar": true,
   "skip_h1_title": false,
   "title_cell": "Table of Contents",
   "title_sidebar": "Contents",
   "toc_cell": false,
   "toc_position": {},
   "toc_section_display": true,
   "toc_window_display": false
  },
  "varInspector": {
   "cols": {
    "lenName": 16,
    "lenType": 16,
    "lenVar": 40
   },
   "kernels_config": {
    "python": {
     "delete_cmd_postfix": "",
     "delete_cmd_prefix": "del ",
     "library": "var_list.py",
     "varRefreshCmd": "print(var_dic_list())"
    },
    "r": {
     "delete_cmd_postfix": ") ",
     "delete_cmd_prefix": "rm(",
     "library": "var_list.r",
     "varRefreshCmd": "cat(var_dic_list()) "
    }
   },
   "types_to_exclude": [
    "module",
    "function",
    "builtin_function_or_method",
    "instance",
    "_Feature"
   ],
   "window_display": false
  }
 },
 "nbformat": 4,
 "nbformat_minor": 1
}
