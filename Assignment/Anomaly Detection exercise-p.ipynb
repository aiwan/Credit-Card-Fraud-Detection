{
 "cells": [
  {
   "cell_type": "markdown",
   "metadata": {
    "id": "V0W3vlijxKLd"
   },
   "source": [
    "# Anomaly Detection Exercise: Credit Card Fraud\n",
    "\n",
    "In this exercise, we will practice using the Local Outlier Factor and Isolation Forest methods to detect outliers in data sets. We will be looking at data from a selected subset of the data for the [\"Credit Card Fraud Detection\" Kaggle task](https://www.kaggle.com/mlg-ulb/creditcardfraud/data)."
   ]
  },
  {
   "cell_type": "markdown",
   "metadata": {
    "id": "p6nftO42eW_0"
   },
   "source": [
    "**Questions:**\n",
    "\n",
    "**Question 1**:\n",
    "\n",
    "  - Load the data in *creditcard_10k.csv.gz* into a Pandas dataframe *df* and examine the data with *df.describe()*. \n",
    "  - Explain the mean and std values for the different features based on the meaning of the features (hint: see the Kaggle task description)."
   ]
  },
  {
   "cell_type": "code",
   "execution_count": 4,
   "metadata": {
    "id": "wsCOluzjeW_0"
   },
   "outputs": [],
   "source": [
    "# your code here\n",
    "\n",
    "import pandas as pd\n",
    "import matplotlib.pyplot as plt\n",
    "import seaborn as sns\n",
    "import pandas as pd\n",
    "import numpy as np\n",
    "from sklearn.model_selection import train_test_split\n",
    "from sklearn.preprocessing import MinMaxScaler\n",
    "from sklearn.preprocessing import StandardScaler\n",
    "from sklearn.preprocessing import FunctionTransformer\n",
    "\n"
   ]
  },
  {
   "cell_type": "code",
   "execution_count": 5,
   "metadata": {
    "id": "wsCOluzjeW_0"
   },
   "outputs": [
    {
     "data": {
      "text/html": [
       "<div>\n",
       "<style scoped>\n",
       "    .dataframe tbody tr th:only-of-type {\n",
       "        vertical-align: middle;\n",
       "    }\n",
       "\n",
       "    .dataframe tbody tr th {\n",
       "        vertical-align: top;\n",
       "    }\n",
       "\n",
       "    .dataframe thead th {\n",
       "        text-align: right;\n",
       "    }\n",
       "</style>\n",
       "<table border=\"1\" class=\"dataframe\">\n",
       "  <thead>\n",
       "    <tr style=\"text-align: right;\">\n",
       "      <th></th>\n",
       "      <th>Time</th>\n",
       "      <th>V1</th>\n",
       "      <th>V2</th>\n",
       "      <th>V3</th>\n",
       "      <th>V4</th>\n",
       "      <th>V5</th>\n",
       "      <th>V6</th>\n",
       "      <th>V7</th>\n",
       "      <th>V8</th>\n",
       "      <th>V9</th>\n",
       "      <th>...</th>\n",
       "      <th>V21</th>\n",
       "      <th>V22</th>\n",
       "      <th>V23</th>\n",
       "      <th>V24</th>\n",
       "      <th>V25</th>\n",
       "      <th>V26</th>\n",
       "      <th>V27</th>\n",
       "      <th>V28</th>\n",
       "      <th>Amount</th>\n",
       "      <th>Class</th>\n",
       "    </tr>\n",
       "  </thead>\n",
       "  <tbody>\n",
       "    <tr>\n",
       "      <th>count</th>\n",
       "      <td>10000.000000</td>\n",
       "      <td>10000.000000</td>\n",
       "      <td>10000.000000</td>\n",
       "      <td>10000.000000</td>\n",
       "      <td>10000.000000</td>\n",
       "      <td>10000.000000</td>\n",
       "      <td>10000.000000</td>\n",
       "      <td>10000.000000</td>\n",
       "      <td>10000.000000</td>\n",
       "      <td>10000.000000</td>\n",
       "      <td>...</td>\n",
       "      <td>10000.000000</td>\n",
       "      <td>10000.000000</td>\n",
       "      <td>10000.000000</td>\n",
       "      <td>10000.000000</td>\n",
       "      <td>10000.000000</td>\n",
       "      <td>10000.000000</td>\n",
       "      <td>10000.000000</td>\n",
       "      <td>10000.000000</td>\n",
       "      <td>10000.000000</td>\n",
       "      <td>10000.00000</td>\n",
       "    </tr>\n",
       "    <tr>\n",
       "      <th>mean</th>\n",
       "      <td>5966.033400</td>\n",
       "      <td>-0.241862</td>\n",
       "      <td>0.281949</td>\n",
       "      <td>0.906270</td>\n",
       "      <td>0.264148</td>\n",
       "      <td>-0.046398</td>\n",
       "      <td>0.133108</td>\n",
       "      <td>-0.071689</td>\n",
       "      <td>-0.064778</td>\n",
       "      <td>0.802224</td>\n",
       "      <td>...</td>\n",
       "      <td>-0.051990</td>\n",
       "      <td>-0.152671</td>\n",
       "      <td>-0.033268</td>\n",
       "      <td>0.021335</td>\n",
       "      <td>0.087146</td>\n",
       "      <td>0.108140</td>\n",
       "      <td>0.005518</td>\n",
       "      <td>0.002915</td>\n",
       "      <td>63.030188</td>\n",
       "      <td>0.00380</td>\n",
       "    </tr>\n",
       "    <tr>\n",
       "      <th>std</th>\n",
       "      <td>4473.403739</td>\n",
       "      <td>1.521679</td>\n",
       "      <td>1.308139</td>\n",
       "      <td>1.159154</td>\n",
       "      <td>1.441235</td>\n",
       "      <td>1.182935</td>\n",
       "      <td>1.307311</td>\n",
       "      <td>1.077430</td>\n",
       "      <td>1.259064</td>\n",
       "      <td>1.155198</td>\n",
       "      <td>...</td>\n",
       "      <td>0.913811</td>\n",
       "      <td>0.631083</td>\n",
       "      <td>0.487814</td>\n",
       "      <td>0.594430</td>\n",
       "      <td>0.428171</td>\n",
       "      <td>0.562793</td>\n",
       "      <td>0.410868</td>\n",
       "      <td>0.266247</td>\n",
       "      <td>184.486158</td>\n",
       "      <td>0.06153</td>\n",
       "    </tr>\n",
       "    <tr>\n",
       "      <th>min</th>\n",
       "      <td>0.000000</td>\n",
       "      <td>-27.670569</td>\n",
       "      <td>-34.607649</td>\n",
       "      <td>-15.496222</td>\n",
       "      <td>-4.657545</td>\n",
       "      <td>-32.092129</td>\n",
       "      <td>-23.496714</td>\n",
       "      <td>-26.548144</td>\n",
       "      <td>-23.632502</td>\n",
       "      <td>-6.329801</td>\n",
       "      <td>...</td>\n",
       "      <td>-11.468435</td>\n",
       "      <td>-8.527145</td>\n",
       "      <td>-15.144340</td>\n",
       "      <td>-2.512377</td>\n",
       "      <td>-2.577363</td>\n",
       "      <td>-1.338556</td>\n",
       "      <td>-7.976100</td>\n",
       "      <td>-3.509250</td>\n",
       "      <td>0.000000</td>\n",
       "      <td>0.00000</td>\n",
       "    </tr>\n",
       "    <tr>\n",
       "      <th>25%</th>\n",
       "      <td>2072.750000</td>\n",
       "      <td>-1.013283</td>\n",
       "      <td>-0.208342</td>\n",
       "      <td>0.412799</td>\n",
       "      <td>-0.614424</td>\n",
       "      <td>-0.643390</td>\n",
       "      <td>-0.629934</td>\n",
       "      <td>-0.542336</td>\n",
       "      <td>-0.190747</td>\n",
       "      <td>0.070868</td>\n",
       "      <td>...</td>\n",
       "      <td>-0.268120</td>\n",
       "      <td>-0.549638</td>\n",
       "      <td>-0.174120</td>\n",
       "      <td>-0.327817</td>\n",
       "      <td>-0.158137</td>\n",
       "      <td>-0.327974</td>\n",
       "      <td>-0.084489</td>\n",
       "      <td>-0.015753</td>\n",
       "      <td>5.000000</td>\n",
       "      <td>0.00000</td>\n",
       "    </tr>\n",
       "    <tr>\n",
       "      <th>50%</th>\n",
       "      <td>4563.500000</td>\n",
       "      <td>-0.372799</td>\n",
       "      <td>0.288524</td>\n",
       "      <td>0.944361</td>\n",
       "      <td>0.219861</td>\n",
       "      <td>-0.152769</td>\n",
       "      <td>-0.152566</td>\n",
       "      <td>-0.055585</td>\n",
       "      <td>0.012865</td>\n",
       "      <td>0.805275</td>\n",
       "      <td>...</td>\n",
       "      <td>-0.123273</td>\n",
       "      <td>-0.136746</td>\n",
       "      <td>-0.045794</td>\n",
       "      <td>0.079976</td>\n",
       "      <td>0.121001</td>\n",
       "      <td>0.042865</td>\n",
       "      <td>-0.004568</td>\n",
       "      <td>0.015897</td>\n",
       "      <td>15.950000</td>\n",
       "      <td>0.00000</td>\n",
       "    </tr>\n",
       "    <tr>\n",
       "      <th>75%</th>\n",
       "      <td>10233.250000</td>\n",
       "      <td>1.150864</td>\n",
       "      <td>0.901879</td>\n",
       "      <td>1.602903</td>\n",
       "      <td>1.125666</td>\n",
       "      <td>0.371081</td>\n",
       "      <td>0.505357</td>\n",
       "      <td>0.476280</td>\n",
       "      <td>0.274533</td>\n",
       "      <td>1.506299</td>\n",
       "      <td>...</td>\n",
       "      <td>0.032707</td>\n",
       "      <td>0.247490</td>\n",
       "      <td>0.081665</td>\n",
       "      <td>0.410877</td>\n",
       "      <td>0.359058</td>\n",
       "      <td>0.476394</td>\n",
       "      <td>0.120811</td>\n",
       "      <td>0.077182</td>\n",
       "      <td>50.960000</td>\n",
       "      <td>0.00000</td>\n",
       "    </tr>\n",
       "    <tr>\n",
       "      <th>max</th>\n",
       "      <td>15012.000000</td>\n",
       "      <td>1.960497</td>\n",
       "      <td>8.636214</td>\n",
       "      <td>4.101716</td>\n",
       "      <td>10.463020</td>\n",
       "      <td>34.099309</td>\n",
       "      <td>21.393069</td>\n",
       "      <td>34.303177</td>\n",
       "      <td>5.060381</td>\n",
       "      <td>10.392889</td>\n",
       "      <td>...</td>\n",
       "      <td>22.588989</td>\n",
       "      <td>4.534454</td>\n",
       "      <td>13.876221</td>\n",
       "      <td>3.200201</td>\n",
       "      <td>5.525093</td>\n",
       "      <td>3.517346</td>\n",
       "      <td>8.254376</td>\n",
       "      <td>4.860769</td>\n",
       "      <td>7712.430000</td>\n",
       "      <td>1.00000</td>\n",
       "    </tr>\n",
       "  </tbody>\n",
       "</table>\n",
       "<p>8 rows × 31 columns</p>\n",
       "</div>"
      ],
      "text/plain": [
       "               Time            V1            V2            V3            V4  \\\n",
       "count  10000.000000  10000.000000  10000.000000  10000.000000  10000.000000   \n",
       "mean    5966.033400     -0.241862      0.281949      0.906270      0.264148   \n",
       "std     4473.403739      1.521679      1.308139      1.159154      1.441235   \n",
       "min        0.000000    -27.670569    -34.607649    -15.496222     -4.657545   \n",
       "25%     2072.750000     -1.013283     -0.208342      0.412799     -0.614424   \n",
       "50%     4563.500000     -0.372799      0.288524      0.944361      0.219861   \n",
       "75%    10233.250000      1.150864      0.901879      1.602903      1.125666   \n",
       "max    15012.000000      1.960497      8.636214      4.101716     10.463020   \n",
       "\n",
       "                 V5            V6            V7            V8            V9  \\\n",
       "count  10000.000000  10000.000000  10000.000000  10000.000000  10000.000000   \n",
       "mean      -0.046398      0.133108     -0.071689     -0.064778      0.802224   \n",
       "std        1.182935      1.307311      1.077430      1.259064      1.155198   \n",
       "min      -32.092129    -23.496714    -26.548144    -23.632502     -6.329801   \n",
       "25%       -0.643390     -0.629934     -0.542336     -0.190747      0.070868   \n",
       "50%       -0.152769     -0.152566     -0.055585      0.012865      0.805275   \n",
       "75%        0.371081      0.505357      0.476280      0.274533      1.506299   \n",
       "max       34.099309     21.393069     34.303177      5.060381     10.392889   \n",
       "\n",
       "       ...           V21           V22           V23           V24  \\\n",
       "count  ...  10000.000000  10000.000000  10000.000000  10000.000000   \n",
       "mean   ...     -0.051990     -0.152671     -0.033268      0.021335   \n",
       "std    ...      0.913811      0.631083      0.487814      0.594430   \n",
       "min    ...    -11.468435     -8.527145    -15.144340     -2.512377   \n",
       "25%    ...     -0.268120     -0.549638     -0.174120     -0.327817   \n",
       "50%    ...     -0.123273     -0.136746     -0.045794      0.079976   \n",
       "75%    ...      0.032707      0.247490      0.081665      0.410877   \n",
       "max    ...     22.588989      4.534454     13.876221      3.200201   \n",
       "\n",
       "                V25           V26           V27           V28        Amount  \\\n",
       "count  10000.000000  10000.000000  10000.000000  10000.000000  10000.000000   \n",
       "mean       0.087146      0.108140      0.005518      0.002915     63.030188   \n",
       "std        0.428171      0.562793      0.410868      0.266247    184.486158   \n",
       "min       -2.577363     -1.338556     -7.976100     -3.509250      0.000000   \n",
       "25%       -0.158137     -0.327974     -0.084489     -0.015753      5.000000   \n",
       "50%        0.121001      0.042865     -0.004568      0.015897     15.950000   \n",
       "75%        0.359058      0.476394      0.120811      0.077182     50.960000   \n",
       "max        5.525093      3.517346      8.254376      4.860769   7712.430000   \n",
       "\n",
       "             Class  \n",
       "count  10000.00000  \n",
       "mean       0.00380  \n",
       "std        0.06153  \n",
       "min        0.00000  \n",
       "25%        0.00000  \n",
       "50%        0.00000  \n",
       "75%        0.00000  \n",
       "max        1.00000  \n",
       "\n",
       "[8 rows x 31 columns]"
      ]
     },
     "execution_count": 5,
     "metadata": {},
     "output_type": "execute_result"
    }
   ],
   "source": [
    "df = pd.read_csv('creditcard_10k.csv.gz', compression='gzip')\n",
    "df.describe()\n"
   ]
  },
  {
   "cell_type": "code",
   "execution_count": null,
   "metadata": {},
   "outputs": [],
   "source": [
    "    "
   ]
  },
  {
   "cell_type": "code",
   "execution_count": 6,
   "metadata": {},
   "outputs": [
    {
     "data": {
      "text/plain": [
       "<matplotlib.axes._subplots.AxesSubplot at 0x16057b9d3a0>"
      ]
     },
     "execution_count": 6,
     "metadata": {},
     "output_type": "execute_result"
    },
    {
     "data": {
      "image/png": "[encoded data removed]",
      "text/plain": [
       "<Figure size 432x288 with 1 Axes>"
      ]
     },
     "metadata": {
      "needs_background": "light"
     },
     "output_type": "display_data"
    }
   ],
   "source": [
    "df.Time.plot()"
   ]
  },
  {
   "cell_type": "code",
   "execution_count": 7,
   "metadata": {},
   "outputs": [
    {
     "data": {
      "text/plain": [
       "<matplotlib.axes._subplots.AxesSubplot at 0x16058238c70>"
      ]
     },
     "execution_count": 7,
     "metadata": {},
     "output_type": "execute_result"
    },
    {
     "data": {
      "image/png": "[encoded data removed]",
      "text/plain": [
       "<Figure size 432x288 with 1 Axes>"
      ]
     },
     "metadata": {
      "needs_background": "light"
     },
     "output_type": "display_data"
    }
   ],
   "source": [
    "df.Amount.plot()"
   ]
  },
  {
   "cell_type": "code",
   "execution_count": 8,
   "metadata": {},
   "outputs": [
    {
     "data": {
      "text/plain": [
       "''"
      ]
     },
     "execution_count": 8,
     "metadata": {},
     "output_type": "execute_result"
    },
    {
     "data": {
      "image/png": "[encoded data removed]",
      "text/plain": [
       "<Figure size 1800x576 with 1 Axes>"
      ]
     },
     "metadata": {
      "needs_background": "light"
     },
     "output_type": "display_data"
    }
   ],
   "source": [
    "pca_describe = df.describe().loc[['mean', 'std']].transpose().drop(['Time', 'Amount', 'Class'])\n",
    "plt.figure(figsize=(25, 8))\n",
    "plt.plot(pca_describe['mean'], label='mean')\n",
    "plt.plot(pca_describe['std'], label='std')\n",
    "plt.legend()\n",
    "plt.rc('font', size=20)\n",
    ";"
   ]
  },
  {
   "cell_type": "code",
   "execution_count": null,
   "metadata": {},
   "outputs": [],
   "source": []
  },
  {
   "cell_type": "markdown",
   "metadata": {},
   "source": [
    "Features \n",
    "Time, Amount, Class, V1 through V28 \n",
    "\n",
    "Features V1 ~ V28 are the principal components obtained from the PCA analysis. The original data is not provided. The mean of the PCA components provide a reference point for interpreting the principal componenets. Each principal components is a linear combination of the original variables and the coefficient of these linear combinatins determine the direction and magnitude of the principal componenent. \n",
    "\n",
    "Std of the principal components provide the dispersion of principal components across all observations\n",
    "A large std indicates that the values of the principal components vary widely accross the observations and vice versa. \n",
    "\n",
    "Typically, PC with largest std are considered to be the most important. \n"
   ]
  },
  {
   "cell_type": "markdown",
   "metadata": {},
   "source": [
    "**Question 2**:\n",
    "\n",
    "Split the data into `X` and `y` (`Class` column of the `df`).  \n",
    "\n",
    "We will use **unsupervised** Anomaly Detection algorithms to find the outliers, and use the `Class` feature that tells whether the transaction is legitimate or fraudulent only as target labels for **metric** to check how well we were able to recognize the outliers."
   ]
  },
  {
   "cell_type": "code",
   "execution_count": 9,
   "metadata": {},
   "outputs": [],
   "source": [
    "# your code here\n",
    "\n",
    "TARGET = 'Class'\n",
    "\n",
    "X = df.drop(TARGET, axis=1)\n",
    "y = df[TARGET]"
   ]
  },
  {
   "cell_type": "code",
   "execution_count": 10,
   "metadata": {},
   "outputs": [
    {
     "name": "stdout",
     "output_type": "stream",
     "text": [
      "<class 'pandas.core.frame.DataFrame'>\n",
      "RangeIndex: 10000 entries, 0 to 9999\n",
      "Data columns (total 30 columns):\n",
      " #   Column  Non-Null Count  Dtype  \n",
      "---  ------  --------------  -----  \n",
      " 0   Time    10000 non-null  float64\n",
      " 1   V1      10000 non-null  float64\n",
      " 2   V2      10000 non-null  float64\n",
      " 3   V3      10000 non-null  float64\n",
      " 4   V4      10000 non-null  float64\n",
      " 5   V5      10000 non-null  float64\n",
      " 6   V6      10000 non-null  float64\n",
      " 7   V7      10000 non-null  float64\n",
      " 8   V8      10000 non-null  float64\n",
      " 9   V9      10000 non-null  float64\n",
      " 10  V10     10000 non-null  float64\n",
      " 11  V11     10000 non-null  float64\n",
      " 12  V12     10000 non-null  float64\n",
      " 13  V13     10000 non-null  float64\n",
      " 14  V14     10000 non-null  float64\n",
      " 15  V15     10000 non-null  float64\n",
      " 16  V16     10000 non-null  float64\n",
      " 17  V17     10000 non-null  float64\n",
      " 18  V18     10000 non-null  float64\n",
      " 19  V19     10000 non-null  float64\n",
      " 20  V20     10000 non-null  float64\n",
      " 21  V21     10000 non-null  float64\n",
      " 22  V22     10000 non-null  float64\n",
      " 23  V23     10000 non-null  float64\n",
      " 24  V24     10000 non-null  float64\n",
      " 25  V25     10000 non-null  float64\n",
      " 26  V26     10000 non-null  float64\n",
      " 27  V27     10000 non-null  float64\n",
      " 28  V28     10000 non-null  float64\n",
      " 29  Amount  10000 non-null  float64\n",
      "dtypes: float64(30)\n",
      "memory usage: 2.3 MB\n"
     ]
    }
   ],
   "source": [
    "X.info()"
   ]
  },
  {
   "cell_type": "code",
   "execution_count": 11,
   "metadata": {},
   "outputs": [
    {
     "name": "stdout",
     "output_type": "stream",
     "text": [
      "<class 'pandas.core.series.Series'>\n",
      "RangeIndex: 10000 entries, 0 to 9999\n",
      "Series name: Class\n",
      "Non-Null Count  Dtype\n",
      "--------------  -----\n",
      "10000 non-null  int64\n",
      "dtypes: int64(1)\n",
      "memory usage: 78.2 KB\n"
     ]
    }
   ],
   "source": [
    "y.info()"
   ]
  },
  {
   "cell_type": "markdown",
   "metadata": {},
   "source": [
    "**Question 3:**\n",
    "\n",
    "We will be using and comparing behavior of 2 Anomaly Detection algorithms: Local Outlier Factor and Isolation Forest.   \n",
    "   - Which one of them is based on distance?  \n",
    "   - What preprocessing is required for distance-based algorithms?\n",
    "   - Perform the preprocessing on all features"
   ]
  },
  {
   "cell_type": "markdown",
   "metadata": {},
   "source": [
    "\n",
    "Local Outlier Factor considers the density of a sample with respect to its k-nearest neighbours. A sample that has a significantly lower density than its neighbors is considered an anomaly. \n",
    "\n",
    "Isolation forest on the other hand isolates an observation by randomly selecting a feature and then randomly slecting a split value between the max and min of the selected feature. \n",
    "\n",
    "- So, Local Outlier Factor algorithm is based on distance.\n",
    "- Required Preprcessing steps are as follows. \n",
    "normalizing, removing outtliers, reducing the dimensionalty, convert all categorical to numerical values. \n"
   ]
  },
  {
   "cell_type": "code",
   "execution_count": 12,
   "metadata": {},
   "outputs": [
    {
     "name": "stdout",
     "output_type": "stream",
     "text": [
      "<class 'pandas.core.frame.DataFrame'>\n",
      "RangeIndex: 10000 entries, 0 to 9999\n",
      "Data columns (total 30 columns):\n",
      " #   Column  Non-Null Count  Dtype  \n",
      "---  ------  --------------  -----  \n",
      " 0   Time    10000 non-null  float64\n",
      " 1   V1      10000 non-null  float64\n",
      " 2   V2      10000 non-null  float64\n",
      " 3   V3      10000 non-null  float64\n",
      " 4   V4      10000 non-null  float64\n",
      " 5   V5      10000 non-null  float64\n",
      " 6   V6      10000 non-null  float64\n",
      " 7   V7      10000 non-null  float64\n",
      " 8   V8      10000 non-null  float64\n",
      " 9   V9      10000 non-null  float64\n",
      " 10  V10     10000 non-null  float64\n",
      " 11  V11     10000 non-null  float64\n",
      " 12  V12     10000 non-null  float64\n",
      " 13  V13     10000 non-null  float64\n",
      " 14  V14     10000 non-null  float64\n",
      " 15  V15     10000 non-null  float64\n",
      " 16  V16     10000 non-null  float64\n",
      " 17  V17     10000 non-null  float64\n",
      " 18  V18     10000 non-null  float64\n",
      " 19  V19     10000 non-null  float64\n",
      " 20  V20     10000 non-null  float64\n",
      " 21  V21     10000 non-null  float64\n",
      " 22  V22     10000 non-null  float64\n",
      " 23  V23     10000 non-null  float64\n",
      " 24  V24     10000 non-null  float64\n",
      " 25  V25     10000 non-null  float64\n",
      " 26  V26     10000 non-null  float64\n",
      " 27  V27     10000 non-null  float64\n",
      " 28  V28     10000 non-null  float64\n",
      " 29  Amount  10000 non-null  float64\n",
      "dtypes: float64(30)\n",
      "memory usage: 2.3 MB\n"
     ]
    }
   ],
   "source": [
    "X.info()"
   ]
  },
  {
   "cell_type": "code",
   "execution_count": 13,
   "metadata": {},
   "outputs": [
    {
     "data": {
      "text/plain": [
       "<matplotlib.axes._subplots.AxesSubplot at 0x16058935220>"
      ]
     },
     "execution_count": 13,
     "metadata": {},
     "output_type": "execute_result"
    },
    {
     "data": {
      "image/png": "[encoded data removed]",
      "text/plain": [
       "<Figure size 432x288 with 1 Axes>"
      ]
     },
     "metadata": {
      "needs_background": "light"
     },
     "output_type": "display_data"
    }
   ],
   "source": [
    "# Removing Time Feature: \n",
    "df.Time.plot()"
   ]
  },
  {
   "cell_type": "markdown",
   "metadata": {},
   "source": [
    "Feature 'Time' is of no use to our model. It has a ID-like behaviour. Removing the feature. "
   ]
  },
  {
   "cell_type": "code",
   "execution_count": 14,
   "metadata": {},
   "outputs": [
    {
     "data": {
      "text/plain": [
       "(10000, 29)"
      ]
     },
     "execution_count": 14,
     "metadata": {},
     "output_type": "execute_result"
    }
   ],
   "source": [
    "X = X.drop(['Time'], axis=1)\n",
    "X.shape"
   ]
  },
  {
   "cell_type": "code",
   "execution_count": 15,
   "metadata": {},
   "outputs": [
    {
     "name": "stdout",
     "output_type": "stream",
     "text": [
      "[[8.87945180e-01 7.98607364e-01 9.20125810e-01 ... 4.99656232e-01\n",
      "  4.16749000e-01 1.93998519e-02]\n",
      " [9.74059675e-01 8.06445052e-01 7.99201527e-01 ... 4.90873897e-01\n",
      "  4.21023449e-01 3.48787607e-04]\n",
      " [8.87994219e-01 7.69299578e-01 8.81186132e-01 ... 4.88016945e-01\n",
      "  4.12125499e-01 4.90973662e-02]\n",
      " ...\n",
      " [9.01042025e-01 8.17509620e-01 9.09842850e-01 ... 4.84780951e-01\n",
      "  4.23000453e-01 5.25126322e-04]\n",
      " [8.82212737e-01 8.34419405e-01 8.67634428e-01 ... 4.80966216e-01\n",
      "  4.20201697e-01 5.25126322e-04]\n",
      " [8.93955293e-01 8.34636652e-01 8.90651714e-01 ... 4.82636372e-01\n",
      "  4.22627324e-01 2.06523755e-02]]\n",
      "(10000, 29)\n"
     ]
    }
   ],
   "source": [
    "from sklearn.preprocessing import MinMaxScaler\n",
    "\n",
    "scaler = MinMaxScaler()\n",
    "scaled_X = scaler.fit_transform(X)\n",
    "\n",
    "print(scaled_X)\n",
    "print(scaled_X.shape)"
   ]
  },
  {
   "cell_type": "code",
   "execution_count": null,
   "metadata": {},
   "outputs": [],
   "source": []
  },
  {
   "cell_type": "markdown",
   "metadata": {
    "id": "K2MczkQ6eW_1"
   },
   "source": [
    "**Question 4:** What percentage of transactions in the dataset are fraudulent using the `Class` feature?"
   ]
  },
  {
   "cell_type": "code",
   "execution_count": 16,
   "metadata": {
    "id": "QBvXHelMeW_1"
   },
   "outputs": [
    {
     "name": "stdout",
     "output_type": "stream",
     "text": [
      "0.38 %\n"
     ]
    }
   ],
   "source": [
    "# your code here\n",
    "print(y.value_counts(normalize=True)[1]*100, '%')\n"
   ]
  },
  {
   "cell_type": "markdown",
   "metadata": {
    "id": "HVllIQdKeW_2"
   },
   "source": [
    "**Question 5:**\n",
    "\n",
    "Use `sklearn.neighbors.LocalOutlierFactor` with default parameters to detect outliers in transaction details.  How many transactions and what percentage of transactions are called fraudulent (outliers) with default parameters of LocalOutlierFactor?"
   ]
  },
  {
   "cell_type": "code",
   "execution_count": 17,
   "metadata": {
    "id": "F9wYYWrbeW_2"
   },
   "outputs": [
    {
     "name": "stdout",
     "output_type": "stream",
     "text": [
      "[1 1 1 ... 1 1 1]\n",
      "655\n",
      "(6.55, '%')\n"
     ]
    }
   ],
   "source": [
    "# your code here\n",
    "from sklearn.neighbors import LocalOutlierFactor\n",
    "\n",
    "lof = LocalOutlierFactor()\n",
    "outlier_scores = lof.fit_predict(scaled_X)\n",
    "\n",
    "print(outlier_scores)\n",
    "print(pd.DataFrame(outlier_scores).value_counts()[-1])\n",
    "lof_percent = (round(pd.DataFrame(outlier_scores).value_counts(normalize=True)[-1]*100,2), \"%\")\n",
    "print(lof_percent)"
   ]
  },
  {
   "cell_type": "code",
   "execution_count": null,
   "metadata": {},
   "outputs": [],
   "source": []
  },
  {
   "cell_type": "markdown",
   "metadata": {
    "id": "BAQ2-GE_eW_3"
   },
   "source": [
    "**Question 6:**\n",
    "\n",
    "- Use `sklearn.metrics.confusion_matrix` and `sklearn.metrics.classification_report` to compare the results from unsupervised anomaly detection with LOF of previous question with the target labels. "
   ]
  },
  {
   "cell_type": "code",
   "execution_count": 18,
   "metadata": {
    "id": "4IhtV0MQeW_3"
   },
   "outputs": [
    {
     "name": "stdout",
     "output_type": "stream",
     "text": [
      "Confusion Matrix:\n",
      "[[9313  649]\n",
      " [  32    6]]\n",
      "\n",
      "Classification Report:\n",
      "              precision    recall  f1-score   support\n",
      "\n",
      "           0       1.00      0.93      0.96      9962\n",
      "           1       0.01      0.16      0.02        38\n",
      "\n",
      "    accuracy                           0.93     10000\n",
      "   macro avg       0.50      0.55      0.49     10000\n",
      "weighted avg       0.99      0.93      0.96     10000\n",
      "\n"
     ]
    }
   ],
   "source": [
    "# your code here\n",
    "\n",
    "\n",
    "from sklearn.metrics import confusion_matrix, classification_report\n",
    "\n",
    "y_true = y.values\n",
    "y_pred = outlier_scores\n",
    "\n",
    "#converting the outlier scores to class labels . Fraud =1 and non-fraud =0\n",
    "y_pred = [0 if x == 1 else 1 for x in y_pred]\n",
    "\n",
    "# calculate the confusion matrix\n",
    "cm = confusion_matrix(y_true, y_pred)\n",
    "print(\"Confusion Matrix:\")\n",
    "print(cm)\n",
    "\n",
    "# calculate the classification report\n",
    "cr = classification_report(y_true, y_pred)\n",
    "print(\"\\nClassification Report:\")\n",
    "print(cr)"
   ]
  },
  {
   "cell_type": "markdown",
   "metadata": {
    "id": "BAQ2-GE_eW_3"
   },
   "source": [
    "- Is the output of LOF with default parameters better than randomly selecting same number of transactions as were chosen by LOF in previous question? Why or why not? (Hint: if we would randomly select X% of observations as outliers, what percentage of real outliers would be chosen?)"
   ]
  },
  {
   "cell_type": "markdown",
   "metadata": {},
   "source": [
    "Q4 -  0.38 %   (Random)\n",
    "Q5 -  6.55 %   (LOF) \n",
    "\n",
    "LOF methodolgy is better. \n",
    "\n",
    "LOF is a density-based outlier detection method which calculated the outlier score for each sample. (score: maesaue of how isolated each sample is). High outlier score are considered as  outliers. \n",
    "\n",
    "\n",
    "And on the other hand, the percentage of real outliers that would be chosen would depend on the proportion of real outliers in the dataset and size of sample. And if the number of outliers are few, percentage of real outliers chosen will be low, which means poor model. \n",
    "\n",
    "Also, random selection of outliers, does not consider any underlying pattern or density or anything. \n",
    "\n",
    "\n",
    "So LOF method is anytime better than choosing the outliers randomly. \n"
   ]
  },
  {
   "cell_type": "markdown",
   "metadata": {
    "id": "s4OFD3lWeW_4"
   },
   "source": [
    "**Question 7:**\n",
    "\n",
    "`contamination` parameter of `LocalOutlierFactor` allows us to set what percent of total observations we would like our LOF model to flag as an outlier.  Let's see how the `contamination` parameter effects the results of LOF:\n",
    "  - Try passing different valid values to the parameter `contamination` of LocalOutlierFactor on full valid range of `contamination` of (0.0, 0.5].\n",
    "  - Plot the `contamination` parameter on the X axis and both `precision` and `recall` on the Y axis of the same graph.\n",
    "  - How does the `contamination` parameter affect the precision and recall of LOF?"
   ]
  },
  {
   "cell_type": "code",
   "execution_count": null,
   "metadata": {},
   "outputs": [],
   "source": []
  },
  {
   "cell_type": "code",
   "execution_count": 19,
   "metadata": {},
   "outputs": [
    {
     "name": "stdout",
     "output_type": "stream",
     "text": [
      "[1 1 1 ... 1 1 1]\n",
      "655\n",
      "6.55 %\n",
      "Confusion Matrix:\n",
      "[[9313  649]\n",
      " [  32    6]]\n"
     ]
    }
   ],
   "source": [
    "lof = LocalOutlierFactor()\n",
    "y_pred = lof.fit_predict(scaled_X)\n",
    "\n",
    "print(y_pred)\n",
    "print(pd.DataFrame(y_pred).value_counts()[-1])\n",
    "print(round(pd.DataFrame(y_pred).value_counts(normalize=True)[-1]*100,2), \"%\")\n",
    "\n",
    "\n",
    "y_true = y.values\n",
    "\n",
    "#converting the outlier scores to class labels . Fraud =1 and non-fraud =0\n",
    "y_pred = [0 if x == 1 else 1 for x in y_pred]\n",
    "\n",
    "# calculate the confusion matrix\n",
    "cm = confusion_matrix(y_true, y_pred)\n",
    "print(\"Confusion Matrix:\")\n",
    "print(cm)\n",
    "\n",
    "# calculate the classification report\n",
    "cr = classification_report(y_true, y_pred)\n",
    "#print(\"\\nClassification Report:\")\n",
    "#print(cr)"
   ]
  },
  {
   "cell_type": "code",
   "execution_count": 20,
   "metadata": {},
   "outputs": [],
   "source": [
    "from sklearn.metrics import precision_score, recall_score\n",
    "\n",
    "contamination_values = [0.1, 0.2, 0.3, 0.4, 0.5] \n",
    "\n",
    "precision_list = []\n",
    "recall_list = []\n",
    "\n",
    "for contamination in contamination_values:\n",
    "#     print('for contamination param = ', contamination)\n",
    "    lof = LocalOutlierFactor(contamination=contamination)\n",
    "    y_pred = lof.fit_predict(scaled_X)\n",
    "\n",
    "#     print(y_pred)\n",
    "#     print(pd.DataFrame(y_pred).value_counts()[-1])\n",
    "#     print(round(pd.DataFrame(y_pred).value_counts(normalize=True)[-1]*100,2), \"%\")\n",
    "\n",
    "    y_true = y.values\n",
    "\n",
    "    #converting the outlier scores to class labels . Fraud =1 and non-fraud =0\n",
    "    y_pred = [0 if x == 1 else 1 for x in y_pred]\n",
    "\n",
    "    precision_list.append(precision_score(y_true, y_pred))\n",
    "    recall_list.append(recall_score(y_true, y_pred))\n",
    "    "
   ]
  },
  {
   "cell_type": "code",
   "execution_count": 21,
   "metadata": {},
   "outputs": [
    {
     "data": {
      "image/png": "[encoded data removed]",
      "text/plain": [
       "<Figure size 432x288 with 1 Axes>"
      ]
     },
     "metadata": {
      "needs_background": "light"
     },
     "output_type": "display_data"
    }
   ],
   "source": [
    "fig, ax = plt.subplots()\n",
    "ax.plot(contamination_values, precision_list, label='Precision')\n",
    "ax.plot(contamination_values, recall_list, label='Recall')\n",
    "ax.legend()\n",
    "ax.set_xlabel('Contamination')\n",
    "ax.set_ylabel('Precision, Recall')\n",
    "plt.show()"
   ]
  },
  {
   "cell_type": "markdown",
   "metadata": {},
   "source": [
    "Recall value is increasing with contamination and that means, more and more points are being classified as outliers and classed as fraudulent. And as more and more cases are marked as outliers, number of actual outliers also would increase. Recall value of 1 means all actual outliers are correctly identified. And zero means none. \n",
    "\n",
    "However, as the Recall increase, model is classifying more samples as outliers which are not originally outliers. This should bring the precision down. And it does so slightly in the above plot. \n",
    "\n",
    "One should consider both recall and precision and look for an optimal balance as required by the business problem. "
   ]
  },
  {
   "cell_type": "markdown",
   "metadata": {
    "id": "s4OFD3lWeW_4"
   },
   "source": [
    "**Question 8:**\n",
    "\n",
    "Although the valid range of `contamination` parameter is (0.0, 0.5] so we can flag up to half of observations as outliers, it usually doesn't make sense to flag half the observations as outliers, since outliers are very rare.  Based on your answer in question 4 that shows that in this case, the fraudulent transactions are indeed rare, let's check `contimation` only up to 0.1 (we will flag maximum 10% of transactions as fraudulent).\n",
    "  - Try passing different values to the parameter `contamination` of LocalOutlierFactor in range (0.0, 0.1].\n",
    "  - Plot the `contamination` parameter on the X axis and both `precision` and `recall` on the Y axis of the same graph.\n",
    "  - Plot on the same graph a vertical line for contamination (% of transactions flagged as fraudulent) that was found by LocalOutlierFactor with default parameters (question 5).\n",
    "  \n",
    "  "
   ]
  },
  {
   "cell_type": "code",
   "execution_count": 22,
   "metadata": {},
   "outputs": [
    {
     "data": {
      "image/png": "[encoded data removed]",
      "text/plain": [
       "<Figure size 432x288 with 1 Axes>"
      ]
     },
     "metadata": {
      "needs_background": "light"
     },
     "output_type": "display_data"
    }
   ],
   "source": [
    "# your code here\n",
    "\n",
    "contamination_values = [i/100 for i in range(1,11)]\n",
    "\n",
    "precision_list_lof = []\n",
    "recall_list_lof = []\n",
    "\n",
    "for contamination in contamination_values:\n",
    "#     print('for contamination param = ', contamination)\n",
    "    lof = LocalOutlierFactor(contamination=contamination)\n",
    "    y_pred = lof.fit_predict(scaled_X)\n",
    "\n",
    "#     print(y_pred)\n",
    "#     print(pd.DataFrame(y_pred).value_counts()[-1])\n",
    "#     print(round(pd.DataFrame(y_pred).value_counts(normalize=True)[-1]*100,2), \"%\")\n",
    "\n",
    "    y_true = y.values\n",
    "\n",
    "    #converting the outlier scores to class labels . Fraud =1 and non-fraud =0\n",
    "    y_pred = [0 if x == 1 else 1 for x in y_pred]\n",
    "\n",
    "    precision_list_lof.append(precision_score(y_true, y_pred))\n",
    "    recall_list_lof.append(recall_score(y_true, y_pred))\n",
    "    \n",
    "\n",
    "fig, ax = plt.subplots()\n",
    "ax.plot(contamination_values, precision_list_lof, label='Precision')\n",
    "ax.plot(contamination_values, recall_list_lof, label='Recall')\n",
    "ax.legend()\n",
    "ax.set_xlabel('Contamination')\n",
    "ax.set_ylabel('Precision, Recall')\n",
    "ax.axvline(lof_percent[0]/100, color='k', linestyle='--')\n",
    "plt.show()"
   ]
  },
  {
   "cell_type": "markdown",
   "metadata": {},
   "source": [
    "**Question 9:** Repeat questions 5-8 using `sklearn.ensemble.IsolationForest`."
   ]
  },
  {
   "cell_type": "markdown",
   "metadata": {
    "id": "s4OFD3lWeW_4"
   },
   "source": [
    "  - Would you say that the `contamination` chosen by default is a good choice?\n",
    "  - If you would go with a higher `contamination` value, what value would you choose and why?\n",
    "  - If you would go with a lower `contamination` value, what value would you choose and why?"
   ]
  },
  {
   "cell_type": "markdown",
   "metadata": {
    "id": "_QqXIpaJeW_4"
   },
   "source": [
    "- Yes, indeed. Contamination chosen by the default was very apt, because we can see that the precision started increasing after this level of contamination which would have resulted in more numbers of samples would have been branded as outliers. \n",
    "\n",
    "\n",
    "- In such case as this one, it is better to trade off for higher recall than precision. More samples will be classed as outliers and eventually branded as fraudulent. Where the user will alerted or the the transactions cancelled. It may cause a bit of distaste to the client, but not losing the money/wealth takes precedence over trvial concerns. In this case I will go for a max value of 0.5 as contamination values. \n",
    "\n",
    "\n",
    "- If the goal of the business case is to minimise the recalls.  (like detecting defective products in manufacturing), it is better to go for a lower recall threshold. I would chose, the default setting as in this assignment, which would have  given a decent result. "
   ]
  },
  {
   "cell_type": "markdown",
   "metadata": {
    "id": "0THSXCJ2eW_5"
   },
   "source": [
    "# IsolationForest"
   ]
  },
  {
   "cell_type": "code",
   "execution_count": null,
   "metadata": {},
   "outputs": [],
   "source": []
  },
  {
   "cell_type": "code",
   "execution_count": 23,
   "metadata": {},
   "outputs": [
    {
     "name": "stdout",
     "output_type": "stream",
     "text": [
      "[1 1 1 ... 1 1 1]\n",
      "380\n",
      "(3.8, '%')\n",
      "Confusion Matrix:\n",
      "[[9617  345]\n",
      " [   3   35]]\n",
      "\n",
      "Classification Report:\n",
      "              precision    recall  f1-score   support\n",
      "\n",
      "           0       1.00      0.97      0.98      9962\n",
      "           1       0.09      0.92      0.17        38\n",
      "\n",
      "    accuracy                           0.97     10000\n",
      "   macro avg       0.55      0.94      0.57     10000\n",
      "weighted avg       1.00      0.97      0.98     10000\n",
      "\n"
     ]
    }
   ],
   "source": [
    "# your code here\n",
    "from sklearn.ensemble import IsolationForest\n",
    "\n",
    "\n",
    "iso = IsolationForest()\n",
    "outlier_scores = iso.fit_predict(scaled_X)\n",
    "\n",
    "print(outlier_scores)\n",
    "print(pd.DataFrame(outlier_scores).value_counts()[-1])\n",
    "lof_percent = (round(pd.DataFrame(outlier_scores).value_counts(normalize=True)[-1]*100,2), \"%\")\n",
    "print(lof_percent)\n",
    "\n",
    "\n",
    "# your code here\n",
    "\n",
    "\n",
    "from sklearn.metrics import confusion_matrix, classification_report\n",
    "\n",
    "y_true = y.values\n",
    "y_pred = outlier_scores\n",
    "\n",
    "#converting the outlier scores to class labels . Fraud =1 and non-fraud =0\n",
    "y_pred = [0 if x == 1 else 1 for x in y_pred]\n",
    "\n",
    "# calculate the confusion matrix\n",
    "cm = confusion_matrix(y_true, y_pred)\n",
    "print(\"Confusion Matrix:\")\n",
    "print(cm)\n",
    "\n",
    "# calculate the classification report\n",
    "cr = classification_report(y_true, y_pred)\n",
    "print(\"\\nClassification Report:\")\n",
    "print(cr)"
   ]
  },
  {
   "cell_type": "markdown",
   "metadata": {},
   "source": [
    "Q4 -  0.38 %   (Random)\n",
    "Q9 with ISOFOREST(Q5) -  4.55 %   (LOF) \n",
    "\n",
    "Iso methodolgy is better. \n",
    "\n",
    "ISo is a density-based outlier detection method which calculated the outlier score for each sample. \n",
    "(score: maesaue of how isolated each sample is). High outlier score are considered as  outliers. \n",
    "The core of the algorithm is to “isolate” outliers by creating decision trees over random attributes. \n",
    "The random partitioning produces noticeable shorter paths for outliers since:\n",
    "\n",
    " - fewer instances (of outliers) result in smaller partitions\n",
    " - distinguishable attribute values are more likely to be separated in early partitioning\n",
    "Hence, when a forest of random trees collectively produces shorter path lengths for some particular points, then they are highly likely to be outliers.\n",
    "\n",
    "And on the other hand, the percentage of real outliers that would be chosen would depend on the proportion of real outliers in the dataset and size of sample. And if the number of outliers are few, percentage of real outliers chosen will be low, which means poor model. \n",
    "\n",
    "Also, random selection of outliers, does not consider any underlying pattern or density or anything. \n",
    "\n",
    "\n",
    "So ISO method is anytime better than choosing the outliers randomly. \n"
   ]
  },
  {
   "cell_type": "markdown",
   "metadata": {},
   "source": [
    "**Question 10 - Q7:**\n",
    "\n",
    "`contamination` parameter of `IsoForest` allows us to set what percent of total observations we would like our iso model to flag as an outlier.  Let's see how the `contamination` parameter effects the results of LOF:\n",
    "  - Try passing different valid values to the parameter `contamination` of IsoForest on full valid range of `contamination` of (0.0, 0.5].\n",
    "  - Plot the `contamination` parameter on the X axis and both `precision` and `recall` on the Y axis of the same graph.\n",
    "  - How does the `contamination` parameter affect the precision and recall of LOF?"
   ]
  },
  {
   "cell_type": "code",
   "execution_count": 24,
   "metadata": {},
   "outputs": [
    {
     "data": {
      "image/png": "[encoded data removed]",
      "text/plain": [
       "<Figure size 432x288 with 1 Axes>"
      ]
     },
     "metadata": {
      "needs_background": "light"
     },
     "output_type": "display_data"
    }
   ],
   "source": [
    "# your code here\n",
    "\n",
    "contamination_values = [0.1, 0.2, 0.3, 0.4, 0.5]\n",
    "\n",
    "precision_list = []\n",
    "recall_list = []\n",
    "\n",
    "for contamination in contamination_values:\n",
    "#     print('for contamination param = ', contamination)\n",
    "    iso = IsolationForest(contamination=contamination)\n",
    "    y_pred = iso.fit_predict(scaled_X)\n",
    "\n",
    "#     print(y_pred)\n",
    "#     print(pd.DataFrame(y_pred).value_counts()[-1])\n",
    "#     print(round(pd.DataFrame(y_pred).value_counts(normalize=True)[-1]*100,2), \"%\")\n",
    "\n",
    "    y_true = y.values\n",
    "\n",
    "    #converting the outlier scores to class labels . Fraud =1 and non-fraud =0\n",
    "    y_pred = [0 if x == 1 else 1 for x in y_pred]\n",
    "\n",
    "    precision_list.append(precision_score(y_true, y_pred))\n",
    "    recall_list.append(recall_score(y_true, y_pred))\n",
    "    \n",
    "\n",
    "fig, ax = plt.subplots()\n",
    "ax.plot(contamination_values, precision_list, label='Precision')\n",
    "ax.plot(contamination_values, recall_list, label='Recall')\n",
    "ax.legend()\n",
    "ax.set_xlabel('Contamination')\n",
    "ax.set_ylabel('Precision, Recall')\n",
    "# ax.axvline(lof_percent[0]/100, color='k', linestyle='--')\n",
    "plt.show()"
   ]
  },
  {
   "cell_type": "markdown",
   "metadata": {},
   "source": [
    "In this model of IsoForest, it seems that the contaminatin param has no effect on the precision. Because, to begin with Precision was already very high. "
   ]
  },
  {
   "cell_type": "markdown",
   "metadata": {},
   "source": [
    "**Question 10 - Q8:**\n",
    "\n",
    "Although the valid range of `contamination` parameter is (0.0, 0.5] so we can flag up to half of observations as outliers, it usually doesn't make sense to flag half the observations as outliers, since outliers are very rare.  Based on your answer in question 4 that shows that in this case, the fraudulent transactions are indeed rare, let's check `contimation` only up to 0.1 (we will flag maximum 10% of transactions as fraudulent).\n",
    "  - Try passing different values to the parameter `contamination` of IsoForest in range (0.0, 0.1].\n",
    "  - Plot the `contamination` parameter on the X axis and both `precision` and `recall` on the Y axis of the same graph.\n",
    "  - Plot on the same graph a vertical line for contamination (% of transactions flagged as fraudulent) that was found by LocalOutlierFactor with default parameters (question 5).\n",
    "  \n",
    "  "
   ]
  },
  {
   "cell_type": "code",
   "execution_count": 25,
   "metadata": {},
   "outputs": [
    {
     "data": {
      "image/png": "[encoded data removed]",
      "text/plain": [
       "<Figure size 432x288 with 1 Axes>"
      ]
     },
     "metadata": {
      "needs_background": "light"
     },
     "output_type": "display_data"
    }
   ],
   "source": [
    "contamination_values = [i/100 for i in range(1,11)]\n",
    "\n",
    "precision_list_iso = []\n",
    "recall_list_iso = []\n",
    "\n",
    "\n",
    "for contamination in contamination_values:\n",
    "#     print('for contamination param = ', contamination)\n",
    "    iso = IsolationForest(contamination=contamination)\n",
    "    y_pred = iso.fit_predict(scaled_X)\n",
    "\n",
    "#     print(y_pred)\n",
    "#     print(pd.DataFrame(y_pred).value_counts()[-1])\n",
    "#     print(round(pd.DataFrame(y_pred).value_counts(normalize=True)[-1]*100,2), \"%\")\n",
    "\n",
    "    y_true = y.values\n",
    "\n",
    "    #converting the outlier scores to class labels . Fraud =1 and non-fraud =0\n",
    "    y_pred = [0 if x == 1 else 1 for x in y_pred]\n",
    "\n",
    "    precision_list_iso.append(precision_score(y_true, y_pred))\n",
    "    recall_list_iso.append(recall_score(y_true, y_pred))\n",
    "    \n",
    "\n",
    "fig, ax = plt.subplots()\n",
    "ax.plot(contamination_values, precision_list_iso, label='Precision')\n",
    "ax.plot(contamination_values, recall_list_iso, label='Recall')\n",
    "ax.legend()\n",
    "ax.set_xlabel('Contamination')\n",
    "ax.set_ylabel('Precision, Recall')\n",
    "ax.axvline(lof_percent[0]/100, color='k', linestyle='--')\n",
    "plt.show()"
   ]
  },
  {
   "cell_type": "markdown",
   "metadata": {},
   "source": [
    "- Would you say that the `contamination` chosen by default is a good choice?\n",
    "  - If you would go with a higher `contamination` value, what value would you choose and why?\n",
    "  - If you would go with a lower `contamination` value, what value would you choose and why?"
   ]
  },
  {
   "cell_type": "markdown",
   "metadata": {},
   "source": [
    "- Yes, indeed the default one is good. \n",
    "- I would choose 0.06 as contamination because, the precisin has hit 1 at this level. \n",
    "- Depending upon the business case, I will choose and her i will go for 0.02\n"
   ]
  },
  {
   "cell_type": "code",
   "execution_count": null,
   "metadata": {},
   "outputs": [],
   "source": []
  },
  {
   "cell_type": "code",
   "execution_count": null,
   "metadata": {},
   "outputs": [],
   "source": []
  },
  {
   "cell_type": "markdown",
   "metadata": {},
   "source": [
    "**Question 10:** \n",
    "- Plot contamination, precision and recall both for LOF and IF on the same graph for contaminations in range (0, 0.1].  **Tip:** use different colors for precision and recall, and different line styles to differentiate between LOF and IF.\n",
    "- What algorithm gives us consistently better results?\n",
    "- What algorithm and what contamination value would you choose and why? If you are not sure, give a few options."
   ]
  },
  {
   "cell_type": "code",
   "execution_count": 39,
   "metadata": {},
   "outputs": [
    {
     "data": {
      "image/png": "[encoded data removed]",
      "text/plain": [
       "<Figure size 432x288 with 1 Axes>"
      ]
     },
     "metadata": {
      "needs_background": "light"
     },
     "output_type": "display_data"
    }
   ],
   "source": [
    "# your code here\n",
    "\n",
    "\n",
    "fig, ax = plt.subplots()\n",
    "\n",
    "ax.plot(contamination_values, precision_list_lof, 'r-' ,label='Precision_LOF')\n",
    "ax.plot(contamination_values, recall_list_lof, 'r--',label='Recall_LOF')\n",
    "\n",
    "ax.plot(contamination_values, precision_list_iso, 'b-', label='Precision_ISO')\n",
    "ax.plot(contamination_values, recall_list_iso, 'b--' ,label='Recall_ISO')\n",
    "plt.legend(loc=(1.05,.4))\n",
    "ax.set_xlabel('Contamination')\n",
    "ax.set_ylabel('Precision, Recall')\n",
    "ax.axvline(lof_percent[0]/100, color='k', linestyle='--')\n",
    "\n",
    "ax.axvline(0.05, color='g', linestyle='-')\n",
    "\n",
    "plt.show()"
   ]
  },
  {
   "cell_type": "markdown",
   "metadata": {},
   "source": [
    "- Isolation forest algorthm is quite consistent with performance. Variablity of the precision and recall is lesser than that of the LOF. \n",
    "\n",
    "- I would choose Isolation Forest, contamination=0.05 as (marked in green). I chose this because Isolation alorithm is quite consstent and contamination =0.5 , it has reached a max recall. . No point going for a higher contamination. "
   ]
  },
  {
   "cell_type": "code",
   "execution_count": null,
   "metadata": {},
   "outputs": [],
   "source": []
  }
 ],
 "metadata": {
  "colab": {
   "collapsed_sections": [],
   "name": "Anomaly Detection exercise.ipynb",
   "provenance": [],
   "toc_visible": true
  },
  "kernelspec": {
   "display_name": "Python 3 (ipykernel)",
   "language": "python",
   "name": "python3"
  },
  "language_info": {
   "codemirror_mode": {
    "name": "ipython",
    "version": 3
   },
   "file_extension": ".py",
   "mimetype": "text/x-python",
   "name": "python",
   "nbconvert_exporter": "python",
   "pygments_lexer": "ipython3",
   "version": "3.9.12"
  },
  "latex_envs": {
   "LaTeX_envs_menu_present": true,
   "autoclose": false,
   "autocomplete": true,
   "bibliofile": "biblio.bib",
   "cite_by": "apalike",
   "current_citInitial": 1,
   "eqLabelWithNumbers": true,
   "eqNumInitial": 1,
   "hotkeys": {
    "equation": "Ctrl-E",
    "itemize": "Ctrl-I"
   },
   "labels_anchors": false,
   "latex_user_defs": false,
   "report_style_numbering": false,
   "user_envs_cfg": false
  },
  "toc": {
   "base_numbering": 1,
   "nav_menu": {},
   "number_sections": true,
   "sideBar": true,
   "skip_h1_title": false,
   "title_cell": "Table of Contents",
   "title_sidebar": "Contents",
   "toc_cell": false,
   "toc_position": {},
   "toc_section_display": true,
   "toc_window_display": false
  },
  "varInspector": {
   "cols": {
    "lenName": 16,
    "lenType": 16,
    "lenVar": 40
   },
   "kernels_config": {
    "python": {
     "delete_cmd_postfix": "",
     "delete_cmd_prefix": "del ",
     "library": "var_list.py",
     "varRefreshCmd": "print(var_dic_list())"
    },
    "r": {
     "delete_cmd_postfix": ") ",
     "delete_cmd_prefix": "rm(",
     "library": "var_list.r",
     "varRefreshCmd": "cat(var_dic_list()) "
    }
   },
   "types_to_exclude": [
    "module",
    "function",
    "builtin_function_or_method",
    "instance",
    "_Feature"
   ],
   "window_display": false
  }
 },
 "nbformat": 4,
 "nbformat_minor": 1
}
